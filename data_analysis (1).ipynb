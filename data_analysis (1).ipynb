{
 "cells": [
  {
   "cell_type": "code",
   "execution_count": null,
   "id": "f7cb0dd7",
   "metadata": {},
   "outputs": [],
   "source": [
    "import boto3\n",
    "import pandas as pd\n",
    "import seaborn as sns\n",
    "import boto3\n",
    "import matplotlib.pyplot as plt\n",
    "import numpy as np\n",
    "from sklearn.model_selection import train_test_split\n",
    "from collections import defaultdict\n",
    "import warnings\n",
    "warnings.filterwarnings('ignore')\n",
    "import scipy.stats"
   ]
  },
  {
   "cell_type": "code",
   "execution_count": null,
   "id": "b8dc6f3b",
   "metadata": {},
   "outputs": [],
   "source": [
    "df = pd.read_parquet('home_assignment_data.parquet')\n",
    "len(df)"
   ]
  },
  {
   "cell_type": "code",
   "execution_count": null,
   "id": "b2a8b651",
   "metadata": {},
   "outputs": [],
   "source": [
    "df.sample(2)"
   ]
  },
  {
   "cell_type": "code",
   "execution_count": null,
   "id": "5a36da9d",
   "metadata": {},
   "outputs": [],
   "source": [
    "df['id'] = range(len(df))"
   ]
  },
  {
   "cell_type": "code",
   "execution_count": null,
   "id": "5810acab",
   "metadata": {},
   "outputs": [],
   "source": [
    "df.info()"
   ]
  },
  {
   "cell_type": "code",
   "execution_count": null,
   "id": "376cd52c",
   "metadata": {},
   "outputs": [],
   "source": [
    "df.describe()"
   ]
  },
  {
   "cell_type": "code",
   "execution_count": null,
   "id": "2f55c516",
   "metadata": {},
   "outputs": [],
   "source": [
    "df = df[df['days_since_install'].notnull()]\n",
    "len(df)"
   ]
  },
  {
   "cell_type": "code",
   "execution_count": null,
   "id": "d75024de",
   "metadata": {},
   "outputs": [],
   "source": [
    "df['convergance'] = 100 * (df['clicks'] / df['impressions'])"
   ]
  },
  {
   "cell_type": "code",
   "execution_count": null,
   "id": "67ac6588",
   "metadata": {},
   "outputs": [],
   "source": [
    "df.sample(2)"
   ]
  },
  {
   "cell_type": "code",
   "execution_count": null,
   "id": "a021855c",
   "metadata": {},
   "outputs": [],
   "source": [
    "sns.histplot(data=df, x=\"clicks\", bins = range(0, 50) )"
   ]
  },
  {
   "cell_type": "code",
   "execution_count": null,
   "id": "50272343",
   "metadata": {},
   "outputs": [],
   "source": [
    "sns.boxenplot(x=df[\"clicks\"])"
   ]
  },
  {
   "cell_type": "code",
   "execution_count": null,
   "id": "67c98542",
   "metadata": {},
   "outputs": [],
   "source": [
    "sns.boxenplot(x=df[\"impressions\"])"
   ]
  },
  {
   "cell_type": "code",
   "execution_count": null,
   "id": "17f20751",
   "metadata": {},
   "outputs": [],
   "source": [
    "sns.histplot(data=df, x=\"impressions\", bins = range(100, 2000, 25))"
   ]
  },
  {
   "cell_type": "code",
   "execution_count": null,
   "id": "c997985e",
   "metadata": {},
   "outputs": [],
   "source": [
    "scipy.stats.kendalltau(df['impressions'], df['clicks'])"
   ]
  },
  {
   "cell_type": "code",
   "execution_count": null,
   "id": "d57f23d7",
   "metadata": {},
   "outputs": [],
   "source": [
    "sns.histplot(data=df, x=\"convergance\", stat=\"percent\")"
   ]
  },
  {
   "cell_type": "code",
   "execution_count": null,
   "id": "76b12fa5",
   "metadata": {},
   "outputs": [],
   "source": [
    "scipy.stats.kendalltau(df['convergance'], df['impressions'])\n"
   ]
  },
  {
   "cell_type": "code",
   "execution_count": null,
   "id": "65e4e495",
   "metadata": {},
   "outputs": [],
   "source": [
    "sns.histplot(data=df[df['impressions'] == 100], x=\"convergance\", stat=\"percent\")"
   ]
  },
  {
   "cell_type": "code",
   "execution_count": null,
   "id": "d8dc0a76",
   "metadata": {},
   "outputs": [],
   "source": [
    "sns.histplot(data=df, x=\"convergance\", bins = range(0, 10))"
   ]
  },
  {
   "cell_type": "code",
   "execution_count": null,
   "id": "96a98f5b",
   "metadata": {},
   "outputs": [],
   "source": [
    "df.info()"
   ]
  },
  {
   "cell_type": "code",
   "execution_count": null,
   "id": "4fbbac25",
   "metadata": {},
   "outputs": [],
   "source": [
    "df.describe()"
   ]
  },
  {
   "cell_type": "code",
   "execution_count": null,
   "id": "30a25d59",
   "metadata": {},
   "outputs": [],
   "source": [
    "df.groupby(['is_subscriber']).size()/len(df)"
   ]
  },
  {
   "cell_type": "code",
   "execution_count": null,
   "id": "daeb287d",
   "metadata": {},
   "outputs": [],
   "source": [
    "scipy.stats.kendalltau(df['convergance'], df['is_subscriber'])"
   ]
  },
  {
   "cell_type": "code",
   "execution_count": null,
   "id": "1b1c45f3",
   "metadata": {},
   "outputs": [],
   "source": [
    "sns.countplot(x=\"is_subscriber\", data=df)"
   ]
  },
  {
   "cell_type": "code",
   "execution_count": null,
   "id": "3e6b9a74",
   "metadata": {},
   "outputs": [],
   "source": [
    "df['feature_types'] = df['feature_types'].apply(lambda features: [feature.strip().lower() for feature in features])"
   ]
  },
  {
   "cell_type": "code",
   "execution_count": null,
   "id": "69acfe2e",
   "metadata": {},
   "outputs": [],
   "source": [
    "all_features = {feature for features in df['feature_types'] for feature in features}\n",
    "len(all_features)"
   ]
  },
  {
   "cell_type": "code",
   "execution_count": null,
   "id": "b859277b",
   "metadata": {},
   "outputs": [],
   "source": [
    "country_size = df.groupby(['country']).size().to_frame('size').reset_index()\n",
    "single_template_countries = country_size[country_size['size'] == 1].shape[0]\n",
    "\n",
    "single_template_countries, single_template_countries/len(pd.unique(df['country']))"
   ]
  },
  {
   "cell_type": "code",
   "execution_count": null,
   "id": "1469d307",
   "metadata": {},
   "outputs": [],
   "source": [
    "sns.countplot(y=\"country\", data=df, order=df.country.value_counts().iloc[:25].index)"
   ]
  },
  {
   "cell_type": "code",
   "execution_count": null,
   "id": "b3a3cb42",
   "metadata": {},
   "outputs": [],
   "source": [
    "sns.countplot(y=\"language\", data=df,\n",
    "              order=df.language.value_counts().iloc[:25].index)"
   ]
  },
  {
   "cell_type": "code",
   "execution_count": null,
   "id": "59a889c7",
   "metadata": {},
   "outputs": [],
   "source": [
    "df['language_clean'] = df['language'].apply(lambda language: language.split('-')[0])\n",
    "len(pd.unique(df['language'])), len(pd.unique(df['language_clean']))"
   ]
  },
  {
   "cell_type": "code",
   "execution_count": null,
   "id": "64d86f63",
   "metadata": {},
   "outputs": [],
   "source": [
    "language_size = df.groupby(['language_clean']).size().to_frame('size').reset_index()\n",
    "single_template_languages = language_size[language_size['size'] == 1].shape[0]\n",
    "\n",
    "single_template_languages, single_template_languages/len(pd.unique(df['language_clean']))"
   ]
  },
  {
   "cell_type": "code",
   "execution_count": null,
   "id": "b7373f2c",
   "metadata": {},
   "outputs": [],
   "source": [
    "sns.countplot(y=\"language_clean\", data=df,\n",
    "              order=df.language_clean.value_counts().iloc[:25].index)"
   ]
  },
  {
   "cell_type": "code",
   "execution_count": null,
   "id": "9ba0fe8c",
   "metadata": {},
   "outputs": [],
   "source": [
    "df[df['days_since_install'] < 380].shape[0]/len(df)"
   ]
  },
  {
   "cell_type": "code",
   "execution_count": null,
   "id": "c95d83c4",
   "metadata": {},
   "outputs": [],
   "source": [
    "sns.histplot(data=df, x=\"days_since_install\", bins =[0] + list(range(1, 1000, 50)))"
   ]
  },
  {
   "cell_type": "code",
   "execution_count": null,
   "id": "6abd9c27",
   "metadata": {},
   "outputs": [],
   "source": [
    "df[df['followers_count']  < 5].shape[0]/len(df)"
   ]
  },
  {
   "cell_type": "code",
   "execution_count": null,
   "id": "1b35d0a7",
   "metadata": {},
   "outputs": [],
   "source": [
    "\n",
    "sns.histplot(data=df, x=\"followers_count\", bins = range(0, 50))"
   ]
  },
  {
   "cell_type": "code",
   "execution_count": null,
   "id": "eeb9e4e4",
   "metadata": {},
   "outputs": [],
   "source": [
    "sns.countplot(x=\"has_facebook\", data=df)"
   ]
  },
  {
   "cell_type": "code",
   "execution_count": null,
   "id": "056550f2",
   "metadata": {},
   "outputs": [],
   "source": [
    "sns.countplot(x=\"has_youtube\", data=df)"
   ]
  },
  {
   "cell_type": "code",
   "execution_count": null,
   "id": "fa0c5fb7",
   "metadata": {},
   "outputs": [],
   "source": [
    "sns.countplot(x=\"has_instagram\", data=df)"
   ]
  },
  {
   "cell_type": "code",
   "execution_count": null,
   "id": "793faf45",
   "metadata": {},
   "outputs": [],
   "source": [
    "sns.countplot(x=\"has_tiktok\", data=df)"
   ]
  },
  {
   "cell_type": "code",
   "execution_count": null,
   "id": "ab4e6422",
   "metadata": {},
   "outputs": [],
   "source": [
    "sns.countplot(x=\"has_snapchat\", data=df)"
   ]
  },
  {
   "cell_type": "code",
   "execution_count": null,
   "id": "b98d0025",
   "metadata": {},
   "outputs": [],
   "source": [
    "sns.countplot(x=\"has_profile_img\", data=df)"
   ]
  },
  {
   "cell_type": "code",
   "execution_count": null,
   "id": "73dedb1a",
   "metadata": {},
   "outputs": [],
   "source": [
    "np.median(df[['duration']])"
   ]
  },
  {
   "cell_type": "code",
   "execution_count": null,
   "id": "4343d0d1",
   "metadata": {},
   "outputs": [],
   "source": [
    "sns.histplot(data=df, x=\"duration\", bins = range(0, 150, 1))"
   ]
  },
  {
   "cell_type": "code",
   "execution_count": null,
   "id": "75dd67ba",
   "metadata": {},
   "outputs": [],
   "source": [
    "sns.histplot(data=df, x=\"height\")"
   ]
  },
  {
   "cell_type": "code",
   "execution_count": null,
   "id": "6091a183",
   "metadata": {},
   "outputs": [],
   "source": [
    "sns.histplot(data=df, x=\"width\")"
   ]
  },
  {
   "cell_type": "code",
   "execution_count": null,
   "id": "037d6f10",
   "metadata": {},
   "outputs": [],
   "source": []
  },
  {
   "cell_type": "code",
   "execution_count": null,
   "id": "26d4672d",
   "metadata": {},
   "outputs": [],
   "source": []
  },
  {
   "cell_type": "code",
   "execution_count": null,
   "id": "a8e624c9",
   "metadata": {},
   "outputs": [],
   "source": [
    "\n",
    "df['number_of_feature_types'] = df['feature_types'].apply(len)\n",
    "df['unique_feature_types'] = df['feature_types'].apply(set)\n",
    "\n",
    "\n",
    "df['number_of_unique_feature_types'] = df['unique_feature_types'].apply(len)\n"
   ]
  },
  {
   "cell_type": "code",
   "execution_count": null,
   "id": "66e2ea55",
   "metadata": {},
   "outputs": [],
   "source": [
    "np.max(df['number_of_feature_types'])"
   ]
  },
  {
   "cell_type": "code",
   "execution_count": null,
   "id": "a651f95e",
   "metadata": {},
   "outputs": [],
   "source": [
    "sns.histplot(data=df, x=\"number_of_feature_types\", bins = range(0, 100, 1))"
   ]
  },
  {
   "cell_type": "code",
   "execution_count": null,
   "id": "888b2c5f",
   "metadata": {},
   "outputs": [],
   "source": [
    "sns.histplot(data=df, x=\"number_of_unique_feature_types\", bins = range(0, 30, 1))"
   ]
  },
  {
   "cell_type": "code",
   "execution_count": null,
   "id": "40c2abeb",
   "metadata": {},
   "outputs": [],
   "source": []
  },
  {
   "cell_type": "code",
   "execution_count": null,
   "id": "e69ea498",
   "metadata": {},
   "outputs": [],
   "source": [
    "def count_feature(feature_types):\n",
    "    feature_to_count = defaultdict(lambda: 0.)\n",
    "    \n",
    "    for feature in feature_types:\n",
    "        feature_to_count[feature] += 1\n",
    "    return feature_to_count\n",
    "\n",
    "def get_feature_duration(feature_types, features_duration):\n",
    "    feature_to_duration = defaultdict(lambda: 0.)\n",
    "    \n",
    "    for (feature, duration) in zip(feature_types, features_duration):\n",
    "        feature_to_duration[feature] += duration\n",
    "    return feature_to_duration\n",
    "\n",
    "def get_feature_min_start_time(feature_types, features_start_times):\n",
    "    feature_to_min_start_time = defaultdict(lambda: -1)\n",
    "    \n",
    "    for (feature, start_time) in zip(feature_types, features_start_times):\n",
    "        \n",
    "        if feature in feature_to_min_start_time:\n",
    "            continue \n",
    "            \n",
    "        feature_to_min_start_time[feature] = start_time\n",
    "        \n",
    "    return feature_to_min_start_time\n",
    "\n",
    "\n",
    "df['feature_count'] = df['feature_types'].apply(count_feature)\n",
    "df['features_to_duration'] = df.apply(lambda r: get_feature_duration(r['feature_types'], r['feature_durations']), axis=1)\n",
    "df['features_to_start_time'] = df.apply(lambda r: get_feature_min_start_time(r['feature_types'], r['start_times']), axis=1)\n"
   ]
  },
  {
   "cell_type": "code",
   "execution_count": null,
   "id": "6925f8b6",
   "metadata": {},
   "outputs": [],
   "source": [
    "fig, axs = plt.subplots(len(all_features), 1, figsize=(5, 120))\n",
    "\n",
    "\n",
    "for (i, feature) in enumerate(all_features):\n",
    "    counts = df['feature_count'].apply(lambda feature_count: feature_count[feature]).tolist()\n",
    "    \n",
    "    \n",
    "    _ = axs[i].hist(counts, bins = range(0, 11, 1))\n",
    "    axs[i].title.set_text(feature)\n",
    "    \n",
    "\n",
    "plt.tight_layout()\n",
    "plt.show()\n",
    "\n",
    "    "
   ]
  },
  {
   "cell_type": "code",
   "execution_count": null,
   "id": "ae7a5fcc",
   "metadata": {},
   "outputs": [],
   "source": [
    "fig, axs = plt.subplots(len(all_features), 1, figsize=(5, 120))\n",
    "\n",
    "\n",
    "for (i, feature) in enumerate(all_features):\n",
    "    durations = df['features_to_duration'].apply(lambda features_to_duration: features_to_duration[feature]).tolist()\n",
    "    \n",
    "    \n",
    "    _ = axs[i].hist(durations)\n",
    "    axs[i].title.set_text(feature)\n",
    "    \n",
    "\n",
    "plt.tight_layout()\n",
    "plt.show()\n",
    "\n",
    "    "
   ]
  },
  {
   "cell_type": "code",
   "execution_count": null,
   "id": "49b5b0a3",
   "metadata": {},
   "outputs": [],
   "source": [
    "\n",
    "\n",
    "fig, axs = plt.subplots(len(all_features), 1, figsize=(5, 120))\n",
    "\n",
    "\n",
    "for (i, feature) in enumerate(all_features):\n",
    "   \n",
    "    start_times =  df['features_to_start_time'].apply(lambda features_to_start_time: features_to_start_time[feature]).tolist()\n",
    "        \n",
    "    \n",
    "    start_times = [start_time for start_time in start_times if start_time != -1]\n",
    "    \n",
    "    \n",
    "    _ = axs[i].hist(start_times)\n",
    "    axs[i].title.set_text(feature)\n",
    "    \n",
    "\n",
    "plt.tight_layout()\n",
    "plt.show()\n",
    "\n",
    "    "
   ]
  },
  {
   "cell_type": "code",
   "execution_count": null,
   "id": "de645af3",
   "metadata": {},
   "outputs": [],
   "source": [
    "sns.histplot(data=df, x=\"replaceable_count\", bins =range(1, 100, 1))"
   ]
  },
  {
   "cell_type": "code",
   "execution_count": null,
   "id": "d3b75620",
   "metadata": {},
   "outputs": [],
   "source": [
    "fig, ax = plt.subplots()\n",
    "sns.scatterplot(data=df, x=\"replaceable_count\", y=\"convergance\", ax= ax)\n",
    "plt.show()"
   ]
  },
  {
   "cell_type": "code",
   "execution_count": null,
   "id": "eef4d440",
   "metadata": {},
   "outputs": [],
   "source": [
    "sns.histplot(data=df, x=\"transitions_count\", bins =range(1, 50, 1))"
   ]
  },
  {
   "cell_type": "code",
   "execution_count": null,
   "id": "5cbdc590",
   "metadata": {},
   "outputs": [],
   "source": [
    "fig, ax = plt.subplots()\n",
    "sns.scatterplot(data=df, x=\"transitions_count\", y=\"convergance\", ax= ax)\n",
    "plt.show()"
   ]
  },
  {
   "cell_type": "code",
   "execution_count": null,
   "id": "467147cd",
   "metadata": {},
   "outputs": [],
   "source": [
    "df['post_hour'] = df['post_timestamp'].apply(lambda pt: pt.hour)\n",
    "df['post_year'] = df['post_timestamp'].apply(lambda pt: pt.year)\n",
    "df['post_month'] = df['post_timestamp'].apply(lambda pt: pt.month)\n",
    "df['post_weekday'] = df['post_timestamp'].apply(lambda pt: pt.weekday())"
   ]
  },
  {
   "cell_type": "code",
   "execution_count": null,
   "id": "3397b536",
   "metadata": {},
   "outputs": [],
   "source": [
    "sns.histplot(data=df, x=\"post_hour\")"
   ]
  },
  {
   "cell_type": "code",
   "execution_count": null,
   "id": "45ad7798",
   "metadata": {},
   "outputs": [],
   "source": [
    "sns.histplot(data=df, x=\"post_month\", bins = range(0, 13))"
   ]
  },
  {
   "cell_type": "code",
   "execution_count": null,
   "id": "5dfa1c0a",
   "metadata": {},
   "outputs": [],
   "source": [
    "sns.histplot(data=df, x=\"post_weekday\", bins=range(0, 8))"
   ]
  },
  {
   "cell_type": "code",
   "execution_count": null,
   "id": "25bedb17",
   "metadata": {},
   "outputs": [],
   "source": [
    "sns.histplot(data=df, x=\"impressions\", bins =range(100, 1000, 25))"
   ]
  },
  {
   "cell_type": "code",
   "execution_count": null,
   "id": "d609062d",
   "metadata": {},
   "outputs": [],
   "source": [
    "sns.histplot(data=df, x=\"clicks\", bins =range(0, 100, 1))"
   ]
  },
  {
   "cell_type": "code",
   "execution_count": null,
   "id": "740cc8b3",
   "metadata": {},
   "outputs": [],
   "source": [
    "\n",
    "\n",
    "sns.histplot(data=df, x=\"convergance\", bins = range(0, 21))\n",
    "         "
   ]
  },
  {
   "cell_type": "code",
   "execution_count": null,
   "id": "f01a380a",
   "metadata": {},
   "outputs": [],
   "source": [
    "fig, ax = plt.subplots()\n",
    "sns.scatterplot(data=df, x=\"impressions\", y=\"clicks\", ax= ax)\n",
    "plt.show()"
   ]
  },
  {
   "cell_type": "code",
   "execution_count": null,
   "id": "4e859bd3",
   "metadata": {},
   "outputs": [],
   "source": [
    "sns.scatterplot(data=df, x=\"days_since_install\", y=\"convergance\")"
   ]
  },
  {
   "cell_type": "code",
   "execution_count": null,
   "id": "b2b74ce6",
   "metadata": {},
   "outputs": [],
   "source": [
    "fig, ax = plt.subplots()\n",
    "sns.scatterplot(data=df, x=\"impressions\", y=\"convergance\", ax= ax)\n",
    "plt.show()"
   ]
  },
  {
   "cell_type": "code",
   "execution_count": null,
   "id": "94904672",
   "metadata": {},
   "outputs": [],
   "source": [
    "fig, ax = plt.subplots()\n",
    "sns.scatterplot(data=df, x=\"followers_count\", y=\"convergance\", ax= ax)\n",
    "ax.set_xlim(0, 1000)\n",
    "plt.show()"
   ]
  },
  {
   "cell_type": "code",
   "execution_count": null,
   "id": "50f9b36f",
   "metadata": {},
   "outputs": [],
   "source": [
    "fig, ax = plt.subplots()\n",
    "sns.scatterplot(data=df, x=\"duration\", y=\"convergance\", ax= ax)\n",
    "plt.show()"
   ]
  }
 ],
 "metadata": {
  "kernelspec": {
   "display_name": "Python (kaggle1)",
   "language": "python",
   "name": "kaggle1"
  },
  "language_info": {
   "codemirror_mode": {
    "name": "ipython",
    "version": 3
   },
   "file_extension": ".py",
   "mimetype": "text/x-python",
   "name": "python",
   "nbconvert_exporter": "python",
   "pygments_lexer": "ipython3",
   "version": "3.7.3"
  }
 },
 "nbformat": 4,
 "nbformat_minor": 5
}

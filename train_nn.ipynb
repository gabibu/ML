{
  "nbformat": 4,
  "nbformat_minor": 0,
  "metadata": {
    "colab": {
      "provenance": [],
      "machine_shape": "hm",
      "gpuType": "A100"
    },
    "kernelspec": {
      "name": "python3",
      "display_name": "Python 3"
    },
    "language_info": {
      "name": "python"
    },
    "accelerator": "GPU"
  },
  "cells": [
    {
      "cell_type": "code",
      "execution_count": 1,
      "metadata": {
        "id": "DoFDBYkofgni"
      },
      "outputs": [],
      "source": [
        "import pandas as pd\n",
        "import seaborn as sns\n",
        "import matplotlib.pyplot as plt\n",
        "import numpy as np\n",
        "from sklearn.model_selection import train_test_split\n",
        "from xgboost import XGBRegressor\n",
        "from sklearn import preprocessing\n",
        "from collections import defaultdict, Counter\n",
        "from nltk.util import ngrams\n",
        "import collections\n",
        "import nltk\n",
        "import warnings\n",
        "import xgboost as xgb\n",
        "from sklearn.utils import class_weight\n",
        "from sklearn import metrics\n",
        "from sklearn.metrics import  precision_score, recall_score\n",
        "from torch.utils.data import Dataset, WeightedRandomSampler, DataLoader\n",
        "import numpy as np\n",
        "import torch\n",
        "import torch.nn as nn\n",
        "import torch.nn.functional as F\n",
        "import torch.optim as optim\n",
        "from google.colab import files\n",
        "from tqdm import tqdm\n",
        "tqdm.pandas()\n",
        "warnings.filterwarnings(\"ignore\")"
      ]
    },
    {
      "cell_type": "code",
      "source": [
        "device = 'cuda' if torch.cuda.is_available() else 'cpu'\n",
        "device"
      ],
      "metadata": {
        "colab": {
          "base_uri": "https://localhost:8080/",
          "height": 35
        },
        "id": "m0aUNDZUBKZ3",
        "outputId": "77598fb9-9d22-4284-8de0-b71d5ff117f2"
      },
      "execution_count": 2,
      "outputs": [
        {
          "output_type": "execute_result",
          "data": {
            "text/plain": [
              "'cuda'"
            ],
            "application/vnd.google.colaboratory.intrinsic+json": {
              "type": "string"
            }
          },
          "metadata": {},
          "execution_count": 2
        }
      ]
    },
    {
      "cell_type": "code",
      "source": [
        "uploaded = files.upload()"
      ],
      "metadata": {
        "colab": {
          "base_uri": "https://localhost:8080/",
          "height": 74
        },
        "id": "pkd_ADJQf2FG",
        "outputId": "05cfca4e-4a0c-4a67-92b6-da66e202c3b2"
      },
      "execution_count": 4,
      "outputs": [
        {
          "output_type": "display_data",
          "data": {
            "text/plain": [
              "<IPython.core.display.HTML object>"
            ],
            "text/html": [
              "\n",
              "     <input type=\"file\" id=\"files-12971237-b672-48e6-9e4d-a2836dc9e91e\" name=\"files[]\" multiple disabled\n",
              "        style=\"border:none\" />\n",
              "     <output id=\"result-12971237-b672-48e6-9e4d-a2836dc9e91e\">\n",
              "      Upload widget is only available when the cell has been executed in the\n",
              "      current browser session. Please rerun this cell to enable.\n",
              "      </output>\n",
              "      <script>// Copyright 2017 Google LLC\n",
              "//\n",
              "// Licensed under the Apache License, Version 2.0 (the \"License\");\n",
              "// you may not use this file except in compliance with the License.\n",
              "// You may obtain a copy of the License at\n",
              "//\n",
              "//      http://www.apache.org/licenses/LICENSE-2.0\n",
              "//\n",
              "// Unless required by applicable law or agreed to in writing, software\n",
              "// distributed under the License is distributed on an \"AS IS\" BASIS,\n",
              "// WITHOUT WARRANTIES OR CONDITIONS OF ANY KIND, either express or implied.\n",
              "// See the License for the specific language governing permissions and\n",
              "// limitations under the License.\n",
              "\n",
              "/**\n",
              " * @fileoverview Helpers for google.colab Python module.\n",
              " */\n",
              "(function(scope) {\n",
              "function span(text, styleAttributes = {}) {\n",
              "  const element = document.createElement('span');\n",
              "  element.textContent = text;\n",
              "  for (const key of Object.keys(styleAttributes)) {\n",
              "    element.style[key] = styleAttributes[key];\n",
              "  }\n",
              "  return element;\n",
              "}\n",
              "\n",
              "// Max number of bytes which will be uploaded at a time.\n",
              "const MAX_PAYLOAD_SIZE = 100 * 1024;\n",
              "\n",
              "function _uploadFiles(inputId, outputId) {\n",
              "  const steps = uploadFilesStep(inputId, outputId);\n",
              "  const outputElement = document.getElementById(outputId);\n",
              "  // Cache steps on the outputElement to make it available for the next call\n",
              "  // to uploadFilesContinue from Python.\n",
              "  outputElement.steps = steps;\n",
              "\n",
              "  return _uploadFilesContinue(outputId);\n",
              "}\n",
              "\n",
              "// This is roughly an async generator (not supported in the browser yet),\n",
              "// where there are multiple asynchronous steps and the Python side is going\n",
              "// to poll for completion of each step.\n",
              "// This uses a Promise to block the python side on completion of each step,\n",
              "// then passes the result of the previous step as the input to the next step.\n",
              "function _uploadFilesContinue(outputId) {\n",
              "  const outputElement = document.getElementById(outputId);\n",
              "  const steps = outputElement.steps;\n",
              "\n",
              "  const next = steps.next(outputElement.lastPromiseValue);\n",
              "  return Promise.resolve(next.value.promise).then((value) => {\n",
              "    // Cache the last promise value to make it available to the next\n",
              "    // step of the generator.\n",
              "    outputElement.lastPromiseValue = value;\n",
              "    return next.value.response;\n",
              "  });\n",
              "}\n",
              "\n",
              "/**\n",
              " * Generator function which is called between each async step of the upload\n",
              " * process.\n",
              " * @param {string} inputId Element ID of the input file picker element.\n",
              " * @param {string} outputId Element ID of the output display.\n",
              " * @return {!Iterable<!Object>} Iterable of next steps.\n",
              " */\n",
              "function* uploadFilesStep(inputId, outputId) {\n",
              "  const inputElement = document.getElementById(inputId);\n",
              "  inputElement.disabled = false;\n",
              "\n",
              "  const outputElement = document.getElementById(outputId);\n",
              "  outputElement.innerHTML = '';\n",
              "\n",
              "  const pickedPromise = new Promise((resolve) => {\n",
              "    inputElement.addEventListener('change', (e) => {\n",
              "      resolve(e.target.files);\n",
              "    });\n",
              "  });\n",
              "\n",
              "  const cancel = document.createElement('button');\n",
              "  inputElement.parentElement.appendChild(cancel);\n",
              "  cancel.textContent = 'Cancel upload';\n",
              "  const cancelPromise = new Promise((resolve) => {\n",
              "    cancel.onclick = () => {\n",
              "      resolve(null);\n",
              "    };\n",
              "  });\n",
              "\n",
              "  // Wait for the user to pick the files.\n",
              "  const files = yield {\n",
              "    promise: Promise.race([pickedPromise, cancelPromise]),\n",
              "    response: {\n",
              "      action: 'starting',\n",
              "    }\n",
              "  };\n",
              "\n",
              "  cancel.remove();\n",
              "\n",
              "  // Disable the input element since further picks are not allowed.\n",
              "  inputElement.disabled = true;\n",
              "\n",
              "  if (!files) {\n",
              "    return {\n",
              "      response: {\n",
              "        action: 'complete',\n",
              "      }\n",
              "    };\n",
              "  }\n",
              "\n",
              "  for (const file of files) {\n",
              "    const li = document.createElement('li');\n",
              "    li.append(span(file.name, {fontWeight: 'bold'}));\n",
              "    li.append(span(\n",
              "        `(${file.type || 'n/a'}) - ${file.size} bytes, ` +\n",
              "        `last modified: ${\n",
              "            file.lastModifiedDate ? file.lastModifiedDate.toLocaleDateString() :\n",
              "                                    'n/a'} - `));\n",
              "    const percent = span('0% done');\n",
              "    li.appendChild(percent);\n",
              "\n",
              "    outputElement.appendChild(li);\n",
              "\n",
              "    const fileDataPromise = new Promise((resolve) => {\n",
              "      const reader = new FileReader();\n",
              "      reader.onload = (e) => {\n",
              "        resolve(e.target.result);\n",
              "      };\n",
              "      reader.readAsArrayBuffer(file);\n",
              "    });\n",
              "    // Wait for the data to be ready.\n",
              "    let fileData = yield {\n",
              "      promise: fileDataPromise,\n",
              "      response: {\n",
              "        action: 'continue',\n",
              "      }\n",
              "    };\n",
              "\n",
              "    // Use a chunked sending to avoid message size limits. See b/62115660.\n",
              "    let position = 0;\n",
              "    do {\n",
              "      const length = Math.min(fileData.byteLength - position, MAX_PAYLOAD_SIZE);\n",
              "      const chunk = new Uint8Array(fileData, position, length);\n",
              "      position += length;\n",
              "\n",
              "      const base64 = btoa(String.fromCharCode.apply(null, chunk));\n",
              "      yield {\n",
              "        response: {\n",
              "          action: 'append',\n",
              "          file: file.name,\n",
              "          data: base64,\n",
              "        },\n",
              "      };\n",
              "\n",
              "      let percentDone = fileData.byteLength === 0 ?\n",
              "          100 :\n",
              "          Math.round((position / fileData.byteLength) * 100);\n",
              "      percent.textContent = `${percentDone}% done`;\n",
              "\n",
              "    } while (position < fileData.byteLength);\n",
              "  }\n",
              "\n",
              "  // All done.\n",
              "  yield {\n",
              "    response: {\n",
              "      action: 'complete',\n",
              "    }\n",
              "  };\n",
              "}\n",
              "\n",
              "scope.google = scope.google || {};\n",
              "scope.google.colab = scope.google.colab || {};\n",
              "scope.google.colab._files = {\n",
              "  _uploadFiles,\n",
              "  _uploadFilesContinue,\n",
              "};\n",
              "})(self);\n",
              "</script> "
            ]
          },
          "metadata": {}
        },
        {
          "output_type": "stream",
          "name": "stdout",
          "text": [
            "Saving home_assignment_data.parquet to home_assignment_data.parquet\n"
          ]
        }
      ]
    },
    {
      "cell_type": "code",
      "source": [
        "df = pd.read_parquet('home_assignment_data.parquet')\n",
        "df = df[df['days_since_install'].notnull()]\n",
        "len(df)"
      ],
      "metadata": {
        "colab": {
          "base_uri": "https://localhost:8080/"
        },
        "id": "rJkwMai2fvCE",
        "outputId": "5e7967b0-d490-4098-aba9-bae3a9698949"
      },
      "execution_count": 5,
      "outputs": [
        {
          "output_type": "execute_result",
          "data": {
            "text/plain": [
              "9991"
            ]
          },
          "metadata": {},
          "execution_count": 5
        }
      ]
    },
    {
      "cell_type": "code",
      "source": [
        "df['convergance'] = 100 * (df['clicks'] / df['impressions'])\n",
        "df['feature_types'] = df['feature_types'].apply(lambda features: [feature.strip().lower() for feature in features])\n",
        "df['unique_feature_types'] = df['feature_types'].apply(lambda features: list(set(features)))\n",
        "df['language_clean'] = df['language'].apply(lambda language: language.split('-')[0])\n",
        "df['number_of_feature_types'] = df['feature_types'].apply(len)\n",
        "df['number_of_unique_feature_types'] = df['unique_feature_types'].apply(len)"
      ],
      "metadata": {
        "id": "yeYqsE3CgJPW"
      },
      "execution_count": 6,
      "outputs": []
    },
    {
      "cell_type": "code",
      "source": [
        "train_df, test_df = train_test_split(df, test_size = 0.2)\n",
        "\n",
        "len(train_df), len(test_df)"
      ],
      "metadata": {
        "colab": {
          "base_uri": "https://localhost:8080/"
        },
        "id": "oLZL8dIsgTDi",
        "outputId": "e7a5d385-3db4-41d1-8a69-e3da15dcb479"
      },
      "execution_count": 7,
      "outputs": [
        {
          "output_type": "execute_result",
          "data": {
            "text/plain": [
              "(7992, 1999)"
            ]
          },
          "metadata": {},
          "execution_count": 7
        }
      ]
    },
    {
      "cell_type": "code",
      "source": [
        "UNK_FEATURTE = 'FEATURE_UNK'\n",
        "FEATURE_MIN_TEMPLATES = 5\n",
        "UNK_FEATURTE"
      ],
      "metadata": {
        "colab": {
          "base_uri": "https://localhost:8080/",
          "height": 35
        },
        "id": "L_EybV0FgVhc",
        "outputId": "0d5bcf7a-a31e-44a0-d8fd-6454612eb9f0"
      },
      "execution_count": 8,
      "outputs": [
        {
          "output_type": "execute_result",
          "data": {
            "text/plain": [
              "'FEATURE_UNK'"
            ],
            "application/vnd.google.colaboratory.intrinsic+json": {
              "type": "string"
            }
          },
          "metadata": {},
          "execution_count": 8
        }
      ]
    },
    {
      "cell_type": "code",
      "source": [
        "all_unique_features = {feature for features in train_df['unique_feature_types'].tolist() for feature in features}\n",
        "len(all_unique_features) "
      ],
      "metadata": {
        "colab": {
          "base_uri": "https://localhost:8080/"
        },
        "id": "47V1DyL8gXnh",
        "outputId": "db2f3fea-9756-4183-8e56-55438abedcc9"
      },
      "execution_count": 9,
      "outputs": [
        {
          "output_type": "execute_result",
          "data": {
            "text/plain": [
              "41"
            ]
          },
          "metadata": {},
          "execution_count": 9
        }
      ]
    },
    {
      "cell_type": "code",
      "source": [
        "feature_types_counter = Counter([feature for features in train_df['unique_feature_types'].tolist() for feature in features])\n",
        "valid_features = {feature for (feature, count) in  feature_types_counter.items() if count > FEATURE_MIN_TEMPLATES}\n",
        "valid_features.add(UNK_FEATURTE)\n",
        "len(valid_features)"
      ],
      "metadata": {
        "colab": {
          "base_uri": "https://localhost:8080/"
        },
        "id": "BthMzCy4gZxR",
        "outputId": "1edc4d9a-ea47-420d-b492-e2da522be9e3"
      },
      "execution_count": 10,
      "outputs": [
        {
          "output_type": "execute_result",
          "data": {
            "text/plain": [
              "33"
            ]
          },
          "metadata": {},
          "execution_count": 10
        }
      ]
    },
    {
      "cell_type": "code",
      "source": [
        "features_lists = train_df['feature_types'].tolist()\n",
        "features_lists = [['start']  + f + ['end'] for f in features_lists]\n",
        "\n",
        "feature_counts = Counter()\n",
        "\n",
        "for features in features_lists:\n",
        "    feature_counts.update(nltk.ngrams(features, 1))\n",
        "    feature_counts.update(nltk.ngrams(features, 2))"
      ],
      "metadata": {
        "id": "P4nrcSsugc62"
      },
      "execution_count": 11,
      "outputs": []
    },
    {
      "cell_type": "code",
      "source": [
        "language_count = df.groupby(['language_clean']).size().to_frame('size').reset_index()\n",
        "valid_languages = set(language_count[language_count['size'] > 50]['language_clean'])\n",
        "UNK_LANGUAGE = 'UNK_LANGUAGE'\n",
        "valid_languages.add(UNK_LANGUAGE)\n",
        "len(valid_languages), len(pd.unique(df['language_clean']))"
      ],
      "metadata": {
        "colab": {
          "base_uri": "https://localhost:8080/"
        },
        "id": "c5P_RH5Di2VE",
        "outputId": "1d2664fc-85f8-405f-d4f8-3a01f32f5075"
      },
      "execution_count": 12,
      "outputs": [
        {
          "output_type": "execute_result",
          "data": {
            "text/plain": [
              "(14, 45)"
            ]
          },
          "metadata": {},
          "execution_count": 12
        }
      ]
    },
    {
      "cell_type": "code",
      "source": [
        "country_count = df.groupby(['country']).size().to_frame('size').reset_index()\n",
        "valid_countries = set(country_count[country_count['size'] > 50]['country'])\n",
        "UNK_COUNTRY = 'UNK_COUNTRY'\n",
        "valid_countries.add(UNK_COUNTRY)\n",
        "len(valid_countries), len(pd.unique(df['country']))"
      ],
      "metadata": {
        "colab": {
          "base_uri": "https://localhost:8080/"
        },
        "id": "h1JhYkfCi4xw",
        "outputId": "a43fd74f-44b3-4357-a4e0-652881b247b6"
      },
      "execution_count": 13,
      "outputs": [
        {
          "output_type": "execute_result",
          "data": {
            "text/plain": [
              "(29, 145)"
            ]
          },
          "metadata": {},
          "execution_count": 13
        }
      ]
    },
    {
      "cell_type": "code",
      "source": [
        "train_df['country'] = train_df['country'].apply(lambda country: country if country in valid_countries else UNK_COUNTRY)\n",
        "train_df['language_clean'] = train_df['language_clean'].apply(lambda language_clean: language_clean if language_clean in valid_languages else UNK_LANGUAGE)\n",
        "\n",
        "test_df['country'] = test_df['country'].apply(lambda country: country if country in valid_countries else UNK_COUNTRY)\n",
        "test_df['language_clean'] = test_df['language_clean'].apply(lambda language_clean: language_clean if language_clean in valid_languages else UNK_LANGUAGE)\n"
      ],
      "metadata": {
        "id": "bn5n7B3Ui7sh"
      },
      "execution_count": 14,
      "outputs": []
    },
    {
      "cell_type": "code",
      "source": [
        "country_encoder = preprocessing.LabelEncoder()\n",
        "language_clean_encoder = preprocessing.LabelEncoder()\n",
        "country_encoder.fit(train_df['country'])\n",
        "language_clean_encoder.fit(train_df['language_clean'])\n",
        "pd.unique(train_df['language_clean']), pd.unique(train_df['country'])"
      ],
      "metadata": {
        "colab": {
          "base_uri": "https://localhost:8080/"
        },
        "id": "tMCVGFc2i-If",
        "outputId": "297493fe-d879-4583-d288-90e08d106200"
      },
      "execution_count": 15,
      "outputs": [
        {
          "output_type": "execute_result",
          "data": {
            "text/plain": [
              "(array(['en', 'es', 'ru', 'it', 'fr', 'pt', 'ar', 'de', 'uk', 'tr',\n",
              "        'UNK_LANGUAGE', 'sv', 'pl', 'nl'], dtype=object),\n",
              " array(['US', 'UNK_COUNTRY', 'AU', 'JP', 'CA', 'KZ', 'RU', 'IT', 'FR',\n",
              "        'BR', 'BY', 'SA', 'GB', 'CH', 'EG', 'KW', 'IN', 'IQ', 'IL', 'UA',\n",
              "        'TR', 'SE', 'DE', 'AE', 'ES', 'PL', 'CO', 'MX', 'NL'], dtype=object))"
            ]
          },
          "metadata": {},
          "execution_count": 15
        }
      ]
    },
    {
      "cell_type": "code",
      "source": [
        "def count_feature(feature_types):\n",
        "    feature_to_count = defaultdict(lambda: 0.)\n",
        "    \n",
        "    for feature in feature_types:\n",
        "        feature_to_count[feature] += 1\n",
        "    return feature_to_count\n",
        "\n",
        "def get_feature_duration(feature_types, features_duration):\n",
        "    feature_to_duration = defaultdict(lambda: 0.)\n",
        "    \n",
        "    for (feature, duration) in zip(feature_types, features_duration):\n",
        "        feature_to_duration[feature] += duration\n",
        "    return feature_to_duration\n",
        "\n",
        "def get_feature_min_start_time(feature_types, features_start_times):\n",
        "    feature_to_min_start_time = defaultdict(lambda: -1)\n",
        "    \n",
        "    for (feature, start_time) in zip(feature_types, features_start_times):\n",
        "        \n",
        "        if feature in feature_to_min_start_time:\n",
        "            continue \n",
        "            \n",
        "        feature_to_min_start_time[feature] = start_time\n",
        "        \n",
        "    return feature_to_min_start_time\n",
        "\n",
        "\n",
        "def get_feature_min_max_median_duration(durations, features, target_feature):\n",
        "    durations = [duration for (feature, duration) in  zip(features ,durations) if feature == target_feature] \n",
        "    \n",
        "    if len(durations) == 0:\n",
        "        return pd.Series([-1, -1, -1])\n",
        "    \n",
        "    \n",
        "    return pd.Series([np.min(durations), np.max(durations), np.median(durations)])\n",
        "    \n",
        "\n",
        "\n",
        "def get_label(convergence):\n",
        "    \n",
        "    if convergence < 1/300:\n",
        "        return 0 \n",
        "    \n",
        "    return 1\n",
        "\n",
        "\n",
        "\n",
        "def create_features(dataset):\n",
        "    \n",
        "    dataset = dataset.copy(True)\n",
        "    \n",
        "    dataset['feature_types_clean'] = dataset['feature_types'].apply(lambda features: [UNK_FEATURTE if feature not in valid_features else feature for feature in features])\n",
        "    \n",
        "    dataset['number_of_unk_features'] = dataset['feature_types'].apply(lambda features: len([1 for feature in features if feature not in valid_features ]))\n",
        "    \n",
        "    dataset['feature_count'] = dataset['feature_types_clean'].apply(count_feature)\n",
        "    dataset['features_to_duration'] = dataset.apply(lambda r: get_feature_duration(r['feature_types_clean'], r['feature_durations']), axis=1)\n",
        "    dataset['features_to_start_time'] = dataset.apply(lambda r: get_feature_min_start_time(r['feature_types_clean'], r['start_times']), axis=1)\n",
        "    dataset['transition_to_duration'] = dataset['transitions_count']/dataset['duration']\n",
        "    \n",
        "    dataset['duration_to_unique_features'] = dataset['duration']/dataset['number_of_unique_feature_types']\n",
        "    dataset['duration_to_features'] = dataset['duration']/dataset['number_of_feature_types']\n",
        "    \n",
        "    for feature in valid_features:\n",
        "        dataset[f'{feature}_duration'] = dataset['features_to_duration'].apply(lambda features_to_duration: features_to_duration[feature])\n",
        "        dataset[f'{feature}_start_time'] = dataset['features_to_start_time'].apply(lambda features_to_start_time: features_to_start_time[feature])\n",
        "        dataset[f'{feature}_count'] = dataset['feature_count'].apply(lambda feature_count: feature_count[feature])\n",
        "    \n",
        "   \n",
        "    for feature in valid_features:\n",
        "        dataset[[f'{feature}_min', f'{feature}_max', f'{feature}_median']] =  dataset.apply(lambda r: get_feature_min_max_median_duration(r['feature_durations'], r['feature_types_clean'], feature) , axis=1) \n",
        " \n",
        "        \n",
        "    dataset['post_hour'] = dataset['post_timestamp'].apply(lambda pt: pt.hour)\n",
        "    dataset['post_month'] = dataset['post_timestamp'].apply(lambda pt: pt.month)\n",
        "    dataset['post_weekday'] = dataset['post_timestamp'].apply(lambda pt: pt.weekday())\n",
        "    dataset['country'] = country_encoder.transform(dataset['country'])\n",
        "    dataset['language_clean'] = language_clean_encoder.transform(dataset['language_clean'])\n",
        "    \n",
        "    y = dataset['convergance'].tolist() #apply(get_label).tolist()\n",
        "    \n",
        "    dataset.drop(columns = ['feature_count', 'features_to_duration', 'features_to_start_time',\n",
        "                           'post_timestamp', 'feature_types',\n",
        "                            'start_times', 'feature_durations',\n",
        "                            'impressions', 'clicks',\n",
        "                           'convergance', 'unique_feature_types',\n",
        "                           'language', 'feature_types_clean'], inplace = True)\n",
        "        \n",
        "    return dataset, y\n",
        "        \n",
        "    "
      ],
      "metadata": {
        "id": "w_T15EImjJ3W"
      },
      "execution_count": 16,
      "outputs": []
    },
    {
      "cell_type": "code",
      "source": [
        "train_features, train_y = create_features(train_df)\n",
        "test_features, test_y = create_features(test_df)"
      ],
      "metadata": {
        "id": "VpdOGg6Fj2NE"
      },
      "execution_count": 17,
      "outputs": []
    },
    {
      "cell_type": "code",
      "source": [
        "\n",
        "numerical_features_cols = ['days_since_install', 'followers_count', 'duration', 'height', 'width', 'replaceable_count',\n",
        "                       'transitions_count', 'number_of_feature_types', 'number_of_unique_feature_types',\n",
        "                       'number_of_unk_features', 'transition_to_duration', 'duration_to_unique_features',\n",
        "                       'duration_to_features', 'clip_duration',\n",
        " 'clip_start_time',\n",
        " 'clip_count',\n",
        " 'evdcrtinputmodel_duration',\n",
        " 'evdcrtinputmodel_start_time',\n",
        " 'evdcrtinputmodel_count',\n",
        " 'evdfilmgraininputmodel_duration',\n",
        " 'evdfilmgraininputmodel_start_time',\n",
        " 'evdfilmgraininputmodel_count',\n",
        " 'pixelate_duration',\n",
        " 'pixelate_start_time',\n",
        " 'pixelate_count',\n",
        " 'sound effect_duration',\n",
        " 'sound effect_start_time',\n",
        " 'sound effect_count',\n",
        " 'fxlayer_duration',\n",
        " 'fxlayer_start_time',\n",
        " 'fxlayer_count',\n",
        " 'mixer_duration',\n",
        " 'mixer_start_time',\n",
        " 'mixer_count',\n",
        " 'fisheye_duration',\n",
        " 'fisheye_start_time',\n",
        " 'fisheye_count',\n",
        " 'kaleidoscope_duration',\n",
        " 'kaleidoscope_start_time',\n",
        " 'kaleidoscope_count',\n",
        " 'evdstrobeinputmodel_duration',\n",
        " 'evdstrobeinputmodel_start_time',\n",
        " 'evdstrobeinputmodel_count',\n",
        " 'colorsplash_duration',\n",
        " 'colorsplash_start_time',\n",
        " 'colorsplash_count',\n",
        " 'music_duration',\n",
        " 'music_start_time',\n",
        " 'music_count',\n",
        " 'sticker_duration',\n",
        " 'sticker_start_time',\n",
        " 'sticker_count',\n",
        " 'evdfilterslayerinputmodel_duration',\n",
        " 'evdfilterslayerinputmodel_start_time',\n",
        " 'evdfilterslayerinputmodel_count',\n",
        " 'evdadjustinputmodel_duration',\n",
        " 'evdadjustinputmodel_start_time',\n",
        " 'evdadjustinputmodel_count',\n",
        " 'evdchromaticaberrationinputmodel_duration',\n",
        " 'evdchromaticaberrationinputmodel_start_time',\n",
        " 'evdchromaticaberrationinputmodel_count',\n",
        " 'evdshakeinputmodel_duration',\n",
        " 'evdshakeinputmodel_start_time',\n",
        " 'evdshakeinputmodel_count',\n",
        " 'evdraysinputmodel_duration',\n",
        " 'evdraysinputmodel_start_time',\n",
        " 'evdraysinputmodel_count',\n",
        " 'text_duration',\n",
        " 'text_start_time',\n",
        " 'text_count',\n",
        " 'defocus_duration',\n",
        " 'defocus_start_time',\n",
        " 'defocus_count',\n",
        " 'evdpulsarinputmodel_duration',\n",
        " 'evdpulsarinputmodel_start_time',\n",
        " 'evdpulsarinputmodel_count',\n",
        " 'prism_duration',\n",
        " 'prism_start_time',\n",
        " 'prism_count',\n",
        " 'evdcrystalinputmodel_duration',\n",
        " 'evdcrystalinputmodel_start_time',\n",
        " 'evdcrystalinputmodel_count',\n",
        " 'evdsmearboundariesinputmodel_duration',\n",
        " 'evdsmearboundariesinputmodel_start_time',\n",
        " 'evdsmearboundariesinputmodel_count',\n",
        " 'audio_duration',\n",
        " 'audio_start_time',\n",
        " 'audio_count',\n",
        " 'FEATURE_UNK_duration',\n",
        " 'FEATURE_UNK_start_time',\n",
        " 'FEATURE_UNK_count',\n",
        " 'vignette_duration',\n",
        " 'vignette_start_time',\n",
        " 'vignette_count',\n",
        " 'selectiveadjust_duration',\n",
        " 'selectiveadjust_start_time',\n",
        " 'selectiveadjust_count',\n",
        " 'evdhalftonelinesinputmodel_duration',\n",
        " 'evdhalftonelinesinputmodel_start_time',\n",
        " 'evdhalftonelinesinputmodel_count',\n",
        " 'evdcameramotioninputmodel_duration',\n",
        " 'evdcameramotioninputmodel_start_time',\n",
        " 'evdcameramotioninputmodel_count',\n",
        " 'lensflarepreset_duration',\n",
        " 'lensflarepreset_start_time',\n",
        " 'lensflarepreset_count',\n",
        " 'voiceover_duration',\n",
        " 'voiceover_start_time',\n",
        " 'voiceover_count',\n",
        " 'evdoffsetinputmodel_duration',\n",
        " 'evdoffsetinputmodel_start_time',\n",
        " 'evdoffsetinputmodel_count',\n",
        " 'clip_min',\n",
        " 'clip_max',\n",
        " 'clip_median',\n",
        " 'evdcrtinputmodel_min',\n",
        " 'evdcrtinputmodel_max',\n",
        " 'evdcrtinputmodel_median',\n",
        " 'evdfilmgraininputmodel_min',\n",
        " 'evdfilmgraininputmodel_max',\n",
        " 'evdfilmgraininputmodel_median',\n",
        " 'pixelate_min',\n",
        " 'pixelate_max',\n",
        " 'pixelate_median',\n",
        " 'sound effect_min',\n",
        " 'sound effect_max',\n",
        " 'sound effect_median',\n",
        " 'fxlayer_min',\n",
        " 'fxlayer_max',\n",
        " 'fxlayer_median',\n",
        " 'mixer_min',\n",
        " 'mixer_max',\n",
        " 'mixer_median',\n",
        " 'fisheye_min',\n",
        " 'fisheye_max',\n",
        " 'fisheye_median',\n",
        " 'kaleidoscope_min',\n",
        " 'kaleidoscope_max',\n",
        " 'kaleidoscope_median',\n",
        " 'evdstrobeinputmodel_min',\n",
        " 'evdstrobeinputmodel_max',\n",
        " 'evdstrobeinputmodel_median',\n",
        " 'colorsplash_min',\n",
        " 'colorsplash_max',\n",
        " 'colorsplash_median',\n",
        " 'music_min',\n",
        " 'music_max',\n",
        " 'music_median',\n",
        " 'sticker_min',\n",
        " 'sticker_max',\n",
        " 'sticker_median',\n",
        " 'evdfilterslayerinputmodel_min',\n",
        " 'evdfilterslayerinputmodel_max',\n",
        " 'evdfilterslayerinputmodel_median',\n",
        " 'evdadjustinputmodel_min',\n",
        " 'evdadjustinputmodel_max',\n",
        " 'evdadjustinputmodel_median',\n",
        " 'evdchromaticaberrationinputmodel_min',\n",
        " 'evdchromaticaberrationinputmodel_max',\n",
        " 'evdchromaticaberrationinputmodel_median',\n",
        " 'evdshakeinputmodel_min',\n",
        " 'evdshakeinputmodel_max',\n",
        " 'evdshakeinputmodel_median',\n",
        " 'evdraysinputmodel_min',\n",
        " 'evdraysinputmodel_max',\n",
        " 'evdraysinputmodel_median',\n",
        " 'text_min',\n",
        " 'text_max',\n",
        " 'text_median',\n",
        " 'defocus_min',\n",
        " 'defocus_max',\n",
        " 'defocus_median',\n",
        " 'evdpulsarinputmodel_min',\n",
        " 'evdpulsarinputmodel_max',\n",
        " 'evdpulsarinputmodel_median',\n",
        " 'prism_min',\n",
        " 'prism_max',\n",
        " 'prism_median',\n",
        " 'evdcrystalinputmodel_min',\n",
        " 'evdcrystalinputmodel_max',\n",
        " 'evdcrystalinputmodel_median',\n",
        " 'evdsmearboundariesinputmodel_min',\n",
        " 'evdsmearboundariesinputmodel_max',\n",
        " 'evdsmearboundariesinputmodel_median',\n",
        " 'audio_min',\n",
        " 'audio_max',\n",
        " 'audio_median',\n",
        " 'FEATURE_UNK_min',\n",
        " 'FEATURE_UNK_max',\n",
        " 'FEATURE_UNK_median',\n",
        " 'vignette_min',\n",
        " 'vignette_max',\n",
        " 'vignette_median',\n",
        " 'selectiveadjust_min',\n",
        " 'selectiveadjust_max',\n",
        " 'selectiveadjust_median',\n",
        " 'evdhalftonelinesinputmodel_min',\n",
        " 'evdhalftonelinesinputmodel_max',\n",
        " 'evdhalftonelinesinputmodel_median',\n",
        " 'evdcameramotioninputmodel_min',\n",
        " 'evdcameramotioninputmodel_max',\n",
        " 'evdcameramotioninputmodel_median',\n",
        " 'lensflarepreset_min',\n",
        " 'lensflarepreset_max',\n",
        " 'lensflarepreset_median',\n",
        " 'voiceover_min',\n",
        " 'voiceover_max',\n",
        " 'voiceover_median',\n",
        " 'evdoffsetinputmodel_min', 'evdoffsetinputmodel_max', 'evdoffsetinputmodel_median']\n",
        "\n",
        "len(numerical_features_cols)"
      ],
      "metadata": {
        "colab": {
          "base_uri": "https://localhost:8080/"
        },
        "id": "R9nrO9PamDpd",
        "outputId": "22ceca8b-2527-46fd-aa27-00757b0330ed"
      },
      "execution_count": 18,
      "outputs": [
        {
          "output_type": "execute_result",
          "data": {
            "text/plain": [
              "211"
            ]
          },
          "metadata": {},
          "execution_count": 18
        }
      ]
    },
    {
      "cell_type": "code",
      "source": [
        "for feature in tqdm(numerical_features_cols, total = len(numerical_features_cols)):\n",
        "  values = train_features[feature].values\n",
        "  scaler = preprocessing.MinMaxScaler() \n",
        "  train_features[feature] = scaler.fit_transform(values.reshape(-1,1)) .flatten()\n",
        "  test_features[feature] = scaler.transform(test_features[feature].values.reshape(-1,1)) .flatten()\n"
      ],
      "metadata": {
        "colab": {
          "base_uri": "https://localhost:8080/"
        },
        "id": "9ceRe_bnkZo6",
        "outputId": "68fa53e7-15d0-4d04-ab77-b240c997485b"
      },
      "execution_count": 19,
      "outputs": [
        {
          "output_type": "stream",
          "name": "stderr",
          "text": [
            "100%|██████████| 211/211 [00:00<00:00, 503.66it/s]\n"
          ]
        }
      ]
    },
    {
      "cell_type": "code",
      "source": [
        "boolean_features = ['is_subscriber', 'has_facebook', 'has_youtube', 'has_instagram', 'has_tiktok', 'has_snapchat', 'has_profile_img', ]\n",
        "embedding_columns = ['country', 'post_hour',  'post_month', 'post_weekday', 'language_clean', 'audio_embedding', 'visual_embedding']\n",
        "\n",
        "all_features_cols = embedding_columns + boolean_features + numerical_features_cols\n",
        "\n",
        "len(set(all_features_cols)), len(all_features_cols), len(set.union(set(boolean_features), set(embedding_columns), set(numerical_features_cols))), len(train_features.columns), len(test_features.columns)"
      ],
      "metadata": {
        "colab": {
          "base_uri": "https://localhost:8080/"
        },
        "id": "5E_RRGEmkE45",
        "outputId": "992499c6-a0d9-4140-df7c-b42e4bc386a6"
      },
      "execution_count": 20,
      "outputs": [
        {
          "output_type": "execute_result",
          "data": {
            "text/plain": [
              "(225, 225, 225, 225, 225)"
            ]
          },
          "metadata": {},
          "execution_count": 20
        }
      ]
    },
    {
      "cell_type": "code",
      "source": [
        "class DataGenerator(Dataset):\n",
        "    def __init__(self, df, numerical_features_cols, targets):\n",
        "        self._df = df\n",
        "        self._targets = targets\n",
        "        self._numerical_features_cols = sorted(numerical_features_cols)\n",
        "      \n",
        "    def __len__(self):\n",
        "        return self._df.shape[0]\n",
        "\n",
        "    def __getitem__(self, index):\n",
        "        \n",
        "        row = self._df.iloc[index]\n",
        "        target = self._targets[index]\n",
        "        numerical_features = [row[col] for col in self._numerical_features_cols]\n",
        "\n",
        "        #return row['country'], row['post_hour'], row['post_month'], row['post_weekday'], row['language_clean'], row['audio_embedding'], row['visual_embedding'], np.array(numerical_features), target\n",
        "\n",
        "        return row['country'] , row['post_hour'], row['post_month'], row['post_weekday'], row['language_clean'], row['audio_embedding'].astype(np.float32), row['visual_embedding'].astype(np.float32), np.array(numerical_features), target\n",
        "\n"
      ],
      "metadata": {
        "id": "U0ji19mzppYh"
      },
      "execution_count": 21,
      "outputs": []
    },
    {
      "cell_type": "code",
      "source": [
        "def get_weight_group(val):\n",
        "\n",
        "  return round(val, 2)\n",
        "\n",
        "\n",
        "weight_group = [get_weight_group(y) for y in train_y] \n",
        "\n",
        "\n",
        "classes = list(np.unique(weight_group))\n",
        "\n",
        "from sklearn.utils import class_weight\n",
        "classes_weights = list(class_weight.compute_class_weight(class_weight = 'balanced',\n",
        "                                                         classes = classes,\n",
        "                                                         y = weight_group))\n",
        "\n",
        "\n",
        "class_weights = {k: v for k, v in zip(classes, classes_weights)}\n",
        "\n",
        "weights = np.ones(len(train_df), dtype = 'float')\n",
        "for i, val in enumerate(weight_group):\n",
        "    weights[i] = class_weights[val]\n",
        "\n",
        "len(classes_weights)\n"
      ],
      "metadata": {
        "colab": {
          "base_uri": "https://localhost:8080/"
        },
        "id": "S9TiTy3TrSOp",
        "outputId": "32018d7e-338b-486f-9657-9124d6fd5c3b"
      },
      "execution_count": 22,
      "outputs": [
        {
          "output_type": "execute_result",
          "data": {
            "text/plain": [
              "524"
            ]
          },
          "metadata": {},
          "execution_count": 22
        }
      ]
    },
    {
      "cell_type": "code",
      "source": [
        "sampler = WeightedRandomSampler(weights, len(train_features), replacement=True)\n",
        "\n",
        "train_data_generator = DataGenerator(train_features, numerical_features_cols, train_y)\n",
        "#train_data_loader = DataLoader(train_data_generator, batch_size=128, shuffle=False, num_workers=0, sampler = sampler)\n",
        "train_data_loader = DataLoader(train_data_generator, batch_size=128, shuffle=True, num_workers=0)\n",
        "\n",
        "\n",
        "test_data_generator = DataGenerator(test_features, numerical_features_cols, test_y)\n",
        "test_data_loader = DataLoader(test_data_generator, batch_size=128, shuffle=True, num_workers=0)\n"
      ],
      "metadata": {
        "id": "I9aaQ5KDsURa"
      },
      "execution_count": 23,
      "outputs": []
    },
    {
      "cell_type": "code",
      "source": [
        "class FormatModel(torch.nn.Module):\n",
        "    def __init__(self, number_of_numerical_features_cols: int, \n",
        "                 country_number_of_values: int,\n",
        "                 hours_number_of_values: int,\n",
        "                 month_number_of_values: int,\n",
        "                 week_day_number_of_values: int,\n",
        "                 language_number_of_values: int,\n",
        "                 country_embedding_size: int = 3,\n",
        "                 hours_embedding_size: int = 3,\n",
        "                 month_embedding_size: int = 3,\n",
        "                 week_day_embedding_size: int = 3,\n",
        "                 language_embedding_size: int = 3,\n",
        "                 audio_input_size: int = 256, visual_input_size: int = 512, \n",
        "                 audio_output_size: int = 64, visual_output_size: int = 32,\n",
        "                 numerical_out: int = 32,\n",
        "                 dropout: float = 0.3):\n",
        "        super().__init__()\n",
        "        \n",
        "        \n",
        "        \n",
        "        self._audio = nn.Linear(audio_input_size, audio_output_size)\n",
        "        self._video = nn.Linear(visual_input_size, visual_output_size)\n",
        "\n",
        "        self._country_embedding = nn.Embedding(country_number_of_values, country_embedding_size)\n",
        "        self._hours_number_embedding = nn.Embedding(hours_number_of_values, hours_embedding_size)\n",
        "        self._month_number_embedding = nn.Embedding(month_number_of_values, month_embedding_size)\n",
        "        self._week_day_embedding = nn.Embedding(week_day_number_of_values, week_day_embedding_size)\n",
        "        self._language_embedding = nn.Embedding(language_number_of_values, language_embedding_size)\n",
        "\n",
        "        combination_size = audio_output_size + visual_output_size + country_embedding_size + hours_embedding_size  + month_embedding_size + week_day_embedding_size +  language_embedding_size + numerical_out\n",
        "        \n",
        "        self._bn1 = nn.BatchNorm1d(combination_size)\n",
        "        self._numerical_fc1 = nn.Linear(number_of_numerical_features_cols, numerical_out)\n",
        "        self._out1 = nn.Linear(combination_size, 30)\n",
        "        self._out2 = nn.Linear(30, 1)\n",
        "\n",
        "        self._dp1 = torch.nn.Dropout(dropout)\n",
        "        self._dp2 = torch.nn.Dropout(dropout)\n",
        "        self._dp3 = torch.nn.Dropout(dropout)\n",
        "        self._dp4 = torch.nn.Dropout(dropout)\n",
        "\n",
        "\n",
        "    def init_weights(self, m):\n",
        "        torch.nn.init.xavier_uniform_(m.weight)\n",
        "\n",
        "        m.bias.data.fill_(0.01)\n",
        "\n",
        "    def _init_embedding(self, emb):\n",
        "      nn.init.uniform_(emb.weight, -1.0, 1.0)\n",
        "\n",
        "    def init_layers(self):\n",
        "      self.init_weights(self._audio)\n",
        "      self.init_weights(self._video)\n",
        "      self.init_weights(self._numerical_fc1)\n",
        "      self.init_weights(self._out1)\n",
        "      self.init_weights(self._out2)\n",
        "\n",
        "      self._init_embedding(self._country_embedding)\n",
        "      self._init_embedding(self._hours_number_embedding)\n",
        "      self._init_embedding(self._month_number_embedding)\n",
        "      self._init_embedding(self._week_day_embedding)\n",
        "      self._init_embedding(self._language_embedding)\n",
        "    \n",
        "\n",
        "    def forward(self, audio, visual, country, hour, month, weekday, language, numerical):\n",
        "      \n",
        "      \n",
        "      audio = self._dp1(audio)\n",
        "      visual = self._dp2(visual)\n",
        "\n",
        "      audio = self._audio(audio)\n",
        "      visual = self._video(visual)\n",
        "      country = self._country_embedding(country)\n",
        "      hour = self._hours_number_embedding(hour)\n",
        "      month = self._month_number_embedding(month)\n",
        "      weekday = self._week_day_embedding(weekday)\n",
        "      language = self._language_embedding(language)\n",
        "      numerical = self._numerical_fc1(numerical)\n",
        "      audio = F.relu(audio)\n",
        "      visual = F.relu(visual)\n",
        "      country = F.relu(country)\n",
        "      hour = F.relu(hour)\n",
        "      month = F.relu(month)\n",
        "      weekday = F.relu(weekday)\n",
        "      language = F.relu(language)\n",
        "      numerical = F.relu(numerical)\n",
        "      \n",
        "      out = torch.cat((audio, visual, country, hour, month, weekday, language, numerical), 1)\n",
        "      \n",
        "      out = self._dp3(out)\n",
        "      out = self._bn1(out)\n",
        "      out = self._out1(out)\n",
        "      out = self._dp4(out)\n",
        "      out = F.relu(out)\n",
        "      out = self._out2(out)\n",
        "\n",
        "      return out\n"
      ],
      "metadata": {
        "id": "SMeV2hKJse9H"
      },
      "execution_count": 46,
      "outputs": []
    },
    {
      "cell_type": "code",
      "source": [
        "def eval1(model):\n",
        "  model.eval()\n",
        "  l = 0.0\n",
        "  c = 0.\n",
        "  with torch.no_grad():\n",
        "    for (country, post_hour, post_month, post_weekday, language, audio_embedding, visual_embedding, numerical_features, target) in test_data_loader:\n",
        "      country = country.to(device)\n",
        "      post_hour = post_hour.to(device)\n",
        "      post_month = post_month.to(device)\n",
        "      post_weekday = post_weekday.to(device)\n",
        "      language = language.to(device)\n",
        "      audio_embedding = audio_embedding.to(device).float()\n",
        "      visual_embedding = visual_embedding.to(device).float()\n",
        "      numerical_features = numerical_features.to(device).float()\n",
        "    \n",
        "\n",
        "      target = target.float().to(device)\n",
        "      y_pred = model(audio_embedding, visual_embedding, country, post_hour, post_month, post_weekday, language,   numerical_features).flatten()\n",
        "      loss = loss_fn(y_pred, target)\n",
        "      l += loss.item()\n",
        "\n",
        "  return l\n"
      ],
      "metadata": {
        "id": "6WLi8npKH7ww"
      },
      "execution_count": 47,
      "outputs": []
    },
    {
      "cell_type": "code",
      "source": [],
      "metadata": {
        "id": "xIc8QcSqOgAH"
      },
      "execution_count": null,
      "outputs": []
    },
    {
      "cell_type": "code",
      "source": [
        "model = FormatModel(number_of_numerical_features_cols = len(numerical_features_cols), \n",
        "                 country_number_of_values = len(pd.unique(train_features['country'])),\n",
        "                 hours_number_of_values = len(pd.unique(train_features['post_hour'])),\n",
        "                 month_number_of_values = 13,\n",
        "                 week_day_number_of_values = len(pd.unique(train_features['post_weekday'])),\n",
        "                 language_number_of_values= len(pd.unique(train_features['language_clean']))).to(device)\n",
        "\n",
        "\n",
        "model.init_layers()\n",
        "\n",
        "\n",
        "# r = m(a, v)\n",
        "# r.shape\n",
        "\n",
        "loss_fn = nn.MSELoss().to(device)\n",
        "#loss_fn = nn.L1Loss().to(device)\n",
        "#loss_fn = nn.BCEWithLogitsLoss().to(device)\n",
        "optimizer = optim.Adam(model.parameters(), lr=0.001)\n",
        "\n",
        "\n",
        "for batch in range(120):\n",
        "  l = 0.0\n",
        "  c = 0.\n",
        "\n",
        "  for (country, post_hour, post_month, post_weekday, language, audio_embedding, visual_embedding, numerical_features, target) in train_data_loader:\n",
        "    model.train()\n",
        "\n",
        "    country = country.to(device)\n",
        "    post_hour = post_hour.to(device)\n",
        "    post_month = post_month.to(device)\n",
        "    post_weekday = post_weekday.to(device)\n",
        "    language = language.to(device)\n",
        "    audio_embedding = audio_embedding.to(device).float()\n",
        "    visual_embedding = visual_embedding.to(device).float()\n",
        "    numerical_features = numerical_features.to(device).float()\n",
        "    \n",
        "\n",
        "    target = target.float().to(device)\n",
        "\n",
        "    #def forward(self, audio, visual, country, hour, month, weekday, language, numerical)\n",
        "    y_pred = model(audio_embedding, visual_embedding, country, post_hour, post_month, post_weekday, language,   numerical_features).flatten()\n",
        "    loss = loss_fn(y_pred, target)\n",
        "\n",
        "    optimizer.zero_grad()\n",
        "    loss.backward()\n",
        "    optimizer.step()\n",
        "    c += 1\n",
        "    l += loss.item()\n",
        "\n",
        "  \n",
        "  eval_score = eval1(model)\n",
        "  print((batch, c, l, eval_score))\n"
      ],
      "metadata": {
        "colab": {
          "base_uri": "https://localhost:8080/",
          "height": 764
        },
        "id": "AYUyRJ4cyaKc",
        "outputId": "6ea843d3-5072-4e88-f7c4-d3be4383fb03"
      },
      "execution_count": 48,
      "outputs": [
        {
          "output_type": "stream",
          "name": "stdout",
          "text": [
            "(0, 63.0, 216.076597571373, 20.09003883600235)\n",
            "(1, 63.0, 111.90042614936829, 23.651590824127197)\n",
            "(2, 63.0, 95.21317255496979, 21.14662092924118)\n",
            "(3, 63.0, 84.50486624240875, 20.4819558262825)\n",
            "(4, 63.0, 79.06114304065704, 18.98374992609024)\n",
            "(5, 63.0, 73.23744803667068, 17.672460675239563)\n",
            "(6, 63.0, 69.26383090019226, 15.684298992156982)\n",
            "(7, 63.0, 65.23977988958359, 14.153539478778839)\n",
            "(8, 63.0, 61.2456368803978, 13.468427747488022)\n",
            "(9, 63.0, 59.525044322013855, 12.998126596212387)\n",
            "(10, 63.0, 58.002162873744965, 13.97590121626854)\n",
            "(11, 63.0, 57.72795885801315, 13.787061125040054)\n",
            "(12, 63.0, 56.234418869018555, 13.105614483356476)\n",
            "(13, 63.0, 54.94281783699989, 12.66067487001419)\n",
            "(14, 63.0, 54.75620499253273, 13.481601059436798)\n",
            "(15, 63.0, 53.96664583683014, 12.698329508304596)\n",
            "(16, 63.0, 55.200114876031876, 13.041218161582947)\n",
            "(17, 63.0, 53.832364082336426, 12.710146129131317)\n",
            "(18, 63.0, 54.11690333485603, 12.907712817192078)\n",
            "(19, 63.0, 51.48093122243881, 12.543649941682816)\n",
            "(20, 63.0, 53.66710048913956, 12.847551882266998)\n"
          ]
        },
        {
          "output_type": "error",
          "ename": "KeyboardInterrupt",
          "evalue": "ignored",
          "traceback": [
            "\u001b[0;31m---------------------------------------------------------------------------\u001b[0m",
            "\u001b[0;31mKeyboardInterrupt\u001b[0m                         Traceback (most recent call last)",
            "\u001b[0;32m<ipython-input-48-316796675576>\u001b[0m in \u001b[0;36m<cell line: 21>\u001b[0;34m()\u001b[0m\n\u001b[1;32m     23\u001b[0m   \u001b[0mc\u001b[0m \u001b[0;34m=\u001b[0m \u001b[0;36m0.\u001b[0m\u001b[0;34m\u001b[0m\u001b[0;34m\u001b[0m\u001b[0m\n\u001b[1;32m     24\u001b[0m \u001b[0;34m\u001b[0m\u001b[0m\n\u001b[0;32m---> 25\u001b[0;31m   \u001b[0;32mfor\u001b[0m \u001b[0;34m(\u001b[0m\u001b[0mcountry\u001b[0m\u001b[0;34m,\u001b[0m \u001b[0mpost_hour\u001b[0m\u001b[0;34m,\u001b[0m \u001b[0mpost_month\u001b[0m\u001b[0;34m,\u001b[0m \u001b[0mpost_weekday\u001b[0m\u001b[0;34m,\u001b[0m \u001b[0mlanguage\u001b[0m\u001b[0;34m,\u001b[0m \u001b[0maudio_embedding\u001b[0m\u001b[0;34m,\u001b[0m \u001b[0mvisual_embedding\u001b[0m\u001b[0;34m,\u001b[0m \u001b[0mnumerical_features\u001b[0m\u001b[0;34m,\u001b[0m \u001b[0mtarget\u001b[0m\u001b[0;34m)\u001b[0m \u001b[0;32min\u001b[0m \u001b[0mtrain_data_loader\u001b[0m\u001b[0;34m:\u001b[0m\u001b[0;34m\u001b[0m\u001b[0;34m\u001b[0m\u001b[0m\n\u001b[0m\u001b[1;32m     26\u001b[0m     \u001b[0mmodel\u001b[0m\u001b[0;34m.\u001b[0m\u001b[0mtrain\u001b[0m\u001b[0;34m(\u001b[0m\u001b[0;34m)\u001b[0m\u001b[0;34m\u001b[0m\u001b[0;34m\u001b[0m\u001b[0m\n\u001b[1;32m     27\u001b[0m \u001b[0;34m\u001b[0m\u001b[0m\n",
            "\u001b[0;32m/usr/local/lib/python3.10/dist-packages/torch/utils/data/dataloader.py\u001b[0m in \u001b[0;36m__next__\u001b[0;34m(self)\u001b[0m\n\u001b[1;32m    631\u001b[0m                 \u001b[0;31m# TODO(https://github.com/pytorch/pytorch/issues/76750)\u001b[0m\u001b[0;34m\u001b[0m\u001b[0;34m\u001b[0m\u001b[0m\n\u001b[1;32m    632\u001b[0m                 \u001b[0mself\u001b[0m\u001b[0;34m.\u001b[0m\u001b[0m_reset\u001b[0m\u001b[0;34m(\u001b[0m\u001b[0;34m)\u001b[0m  \u001b[0;31m# type: ignore[call-arg]\u001b[0m\u001b[0;34m\u001b[0m\u001b[0;34m\u001b[0m\u001b[0m\n\u001b[0;32m--> 633\u001b[0;31m             \u001b[0mdata\u001b[0m \u001b[0;34m=\u001b[0m \u001b[0mself\u001b[0m\u001b[0;34m.\u001b[0m\u001b[0m_next_data\u001b[0m\u001b[0;34m(\u001b[0m\u001b[0;34m)\u001b[0m\u001b[0;34m\u001b[0m\u001b[0;34m\u001b[0m\u001b[0m\n\u001b[0m\u001b[1;32m    634\u001b[0m             \u001b[0mself\u001b[0m\u001b[0;34m.\u001b[0m\u001b[0m_num_yielded\u001b[0m \u001b[0;34m+=\u001b[0m \u001b[0;36m1\u001b[0m\u001b[0;34m\u001b[0m\u001b[0;34m\u001b[0m\u001b[0m\n\u001b[1;32m    635\u001b[0m             \u001b[0;32mif\u001b[0m \u001b[0mself\u001b[0m\u001b[0;34m.\u001b[0m\u001b[0m_dataset_kind\u001b[0m \u001b[0;34m==\u001b[0m \u001b[0m_DatasetKind\u001b[0m\u001b[0;34m.\u001b[0m\u001b[0mIterable\u001b[0m \u001b[0;32mand\u001b[0m\u001b[0;31m \u001b[0m\u001b[0;31m\\\u001b[0m\u001b[0;34m\u001b[0m\u001b[0;34m\u001b[0m\u001b[0m\n",
            "\u001b[0;32m/usr/local/lib/python3.10/dist-packages/torch/utils/data/dataloader.py\u001b[0m in \u001b[0;36m_next_data\u001b[0;34m(self)\u001b[0m\n\u001b[1;32m    675\u001b[0m     \u001b[0;32mdef\u001b[0m \u001b[0m_next_data\u001b[0m\u001b[0;34m(\u001b[0m\u001b[0mself\u001b[0m\u001b[0;34m)\u001b[0m\u001b[0;34m:\u001b[0m\u001b[0;34m\u001b[0m\u001b[0;34m\u001b[0m\u001b[0m\n\u001b[1;32m    676\u001b[0m         \u001b[0mindex\u001b[0m \u001b[0;34m=\u001b[0m \u001b[0mself\u001b[0m\u001b[0;34m.\u001b[0m\u001b[0m_next_index\u001b[0m\u001b[0;34m(\u001b[0m\u001b[0;34m)\u001b[0m  \u001b[0;31m# may raise StopIteration\u001b[0m\u001b[0;34m\u001b[0m\u001b[0;34m\u001b[0m\u001b[0m\n\u001b[0;32m--> 677\u001b[0;31m         \u001b[0mdata\u001b[0m \u001b[0;34m=\u001b[0m \u001b[0mself\u001b[0m\u001b[0;34m.\u001b[0m\u001b[0m_dataset_fetcher\u001b[0m\u001b[0;34m.\u001b[0m\u001b[0mfetch\u001b[0m\u001b[0;34m(\u001b[0m\u001b[0mindex\u001b[0m\u001b[0;34m)\u001b[0m  \u001b[0;31m# may raise StopIteration\u001b[0m\u001b[0;34m\u001b[0m\u001b[0;34m\u001b[0m\u001b[0m\n\u001b[0m\u001b[1;32m    678\u001b[0m         \u001b[0;32mif\u001b[0m \u001b[0mself\u001b[0m\u001b[0;34m.\u001b[0m\u001b[0m_pin_memory\u001b[0m\u001b[0;34m:\u001b[0m\u001b[0;34m\u001b[0m\u001b[0;34m\u001b[0m\u001b[0m\n\u001b[1;32m    679\u001b[0m             \u001b[0mdata\u001b[0m \u001b[0;34m=\u001b[0m \u001b[0m_utils\u001b[0m\u001b[0;34m.\u001b[0m\u001b[0mpin_memory\u001b[0m\u001b[0;34m.\u001b[0m\u001b[0mpin_memory\u001b[0m\u001b[0;34m(\u001b[0m\u001b[0mdata\u001b[0m\u001b[0;34m,\u001b[0m \u001b[0mself\u001b[0m\u001b[0;34m.\u001b[0m\u001b[0m_pin_memory_device\u001b[0m\u001b[0;34m)\u001b[0m\u001b[0;34m\u001b[0m\u001b[0;34m\u001b[0m\u001b[0m\n",
            "\u001b[0;32m/usr/local/lib/python3.10/dist-packages/torch/utils/data/_utils/fetch.py\u001b[0m in \u001b[0;36mfetch\u001b[0;34m(self, possibly_batched_index)\u001b[0m\n\u001b[1;32m     49\u001b[0m                 \u001b[0mdata\u001b[0m \u001b[0;34m=\u001b[0m \u001b[0mself\u001b[0m\u001b[0;34m.\u001b[0m\u001b[0mdataset\u001b[0m\u001b[0;34m.\u001b[0m\u001b[0m__getitems__\u001b[0m\u001b[0;34m(\u001b[0m\u001b[0mpossibly_batched_index\u001b[0m\u001b[0;34m)\u001b[0m\u001b[0;34m\u001b[0m\u001b[0;34m\u001b[0m\u001b[0m\n\u001b[1;32m     50\u001b[0m             \u001b[0;32melse\u001b[0m\u001b[0;34m:\u001b[0m\u001b[0;34m\u001b[0m\u001b[0;34m\u001b[0m\u001b[0m\n\u001b[0;32m---> 51\u001b[0;31m                 \u001b[0mdata\u001b[0m \u001b[0;34m=\u001b[0m \u001b[0;34m[\u001b[0m\u001b[0mself\u001b[0m\u001b[0;34m.\u001b[0m\u001b[0mdataset\u001b[0m\u001b[0;34m[\u001b[0m\u001b[0midx\u001b[0m\u001b[0;34m]\u001b[0m \u001b[0;32mfor\u001b[0m \u001b[0midx\u001b[0m \u001b[0;32min\u001b[0m \u001b[0mpossibly_batched_index\u001b[0m\u001b[0;34m]\u001b[0m\u001b[0;34m\u001b[0m\u001b[0;34m\u001b[0m\u001b[0m\n\u001b[0m\u001b[1;32m     52\u001b[0m         \u001b[0;32melse\u001b[0m\u001b[0;34m:\u001b[0m\u001b[0;34m\u001b[0m\u001b[0;34m\u001b[0m\u001b[0m\n\u001b[1;32m     53\u001b[0m             \u001b[0mdata\u001b[0m \u001b[0;34m=\u001b[0m \u001b[0mself\u001b[0m\u001b[0;34m.\u001b[0m\u001b[0mdataset\u001b[0m\u001b[0;34m[\u001b[0m\u001b[0mpossibly_batched_index\u001b[0m\u001b[0;34m]\u001b[0m\u001b[0;34m\u001b[0m\u001b[0;34m\u001b[0m\u001b[0m\n",
            "\u001b[0;32m/usr/local/lib/python3.10/dist-packages/torch/utils/data/_utils/fetch.py\u001b[0m in \u001b[0;36m<listcomp>\u001b[0;34m(.0)\u001b[0m\n\u001b[1;32m     49\u001b[0m                 \u001b[0mdata\u001b[0m \u001b[0;34m=\u001b[0m \u001b[0mself\u001b[0m\u001b[0;34m.\u001b[0m\u001b[0mdataset\u001b[0m\u001b[0;34m.\u001b[0m\u001b[0m__getitems__\u001b[0m\u001b[0;34m(\u001b[0m\u001b[0mpossibly_batched_index\u001b[0m\u001b[0;34m)\u001b[0m\u001b[0;34m\u001b[0m\u001b[0;34m\u001b[0m\u001b[0m\n\u001b[1;32m     50\u001b[0m             \u001b[0;32melse\u001b[0m\u001b[0;34m:\u001b[0m\u001b[0;34m\u001b[0m\u001b[0;34m\u001b[0m\u001b[0m\n\u001b[0;32m---> 51\u001b[0;31m                 \u001b[0mdata\u001b[0m \u001b[0;34m=\u001b[0m \u001b[0;34m[\u001b[0m\u001b[0mself\u001b[0m\u001b[0;34m.\u001b[0m\u001b[0mdataset\u001b[0m\u001b[0;34m[\u001b[0m\u001b[0midx\u001b[0m\u001b[0;34m]\u001b[0m \u001b[0;32mfor\u001b[0m \u001b[0midx\u001b[0m \u001b[0;32min\u001b[0m \u001b[0mpossibly_batched_index\u001b[0m\u001b[0;34m]\u001b[0m\u001b[0;34m\u001b[0m\u001b[0;34m\u001b[0m\u001b[0m\n\u001b[0m\u001b[1;32m     52\u001b[0m         \u001b[0;32melse\u001b[0m\u001b[0;34m:\u001b[0m\u001b[0;34m\u001b[0m\u001b[0;34m\u001b[0m\u001b[0m\n\u001b[1;32m     53\u001b[0m             \u001b[0mdata\u001b[0m \u001b[0;34m=\u001b[0m \u001b[0mself\u001b[0m\u001b[0;34m.\u001b[0m\u001b[0mdataset\u001b[0m\u001b[0;34m[\u001b[0m\u001b[0mpossibly_batched_index\u001b[0m\u001b[0;34m]\u001b[0m\u001b[0;34m\u001b[0m\u001b[0;34m\u001b[0m\u001b[0m\n",
            "\u001b[0;32m<ipython-input-21-df985950ec41>\u001b[0m in \u001b[0;36m__getitem__\u001b[0;34m(self, index)\u001b[0m\n\u001b[1;32m     16\u001b[0m         \u001b[0;31m#return row['country'], row['post_hour'], row['post_month'], row['post_weekday'], row['language_clean'], row['audio_embedding'], row['visual_embedding'], np.array(numerical_features), target\u001b[0m\u001b[0;34m\u001b[0m\u001b[0;34m\u001b[0m\u001b[0m\n\u001b[1;32m     17\u001b[0m \u001b[0;34m\u001b[0m\u001b[0m\n\u001b[0;32m---> 18\u001b[0;31m         \u001b[0;32mreturn\u001b[0m \u001b[0mrow\u001b[0m\u001b[0;34m[\u001b[0m\u001b[0;34m'country'\u001b[0m\u001b[0;34m]\u001b[0m \u001b[0;34m,\u001b[0m \u001b[0mrow\u001b[0m\u001b[0;34m[\u001b[0m\u001b[0;34m'post_hour'\u001b[0m\u001b[0;34m]\u001b[0m\u001b[0;34m,\u001b[0m \u001b[0mrow\u001b[0m\u001b[0;34m[\u001b[0m\u001b[0;34m'post_month'\u001b[0m\u001b[0;34m]\u001b[0m\u001b[0;34m,\u001b[0m \u001b[0mrow\u001b[0m\u001b[0;34m[\u001b[0m\u001b[0;34m'post_weekday'\u001b[0m\u001b[0;34m]\u001b[0m\u001b[0;34m,\u001b[0m \u001b[0mrow\u001b[0m\u001b[0;34m[\u001b[0m\u001b[0;34m'language_clean'\u001b[0m\u001b[0;34m]\u001b[0m\u001b[0;34m,\u001b[0m \u001b[0mrow\u001b[0m\u001b[0;34m[\u001b[0m\u001b[0;34m'audio_embedding'\u001b[0m\u001b[0;34m]\u001b[0m\u001b[0;34m.\u001b[0m\u001b[0mastype\u001b[0m\u001b[0;34m(\u001b[0m\u001b[0mnp\u001b[0m\u001b[0;34m.\u001b[0m\u001b[0mfloat32\u001b[0m\u001b[0;34m)\u001b[0m\u001b[0;34m,\u001b[0m \u001b[0mrow\u001b[0m\u001b[0;34m[\u001b[0m\u001b[0;34m'visual_embedding'\u001b[0m\u001b[0;34m]\u001b[0m\u001b[0;34m.\u001b[0m\u001b[0mastype\u001b[0m\u001b[0;34m(\u001b[0m\u001b[0mnp\u001b[0m\u001b[0;34m.\u001b[0m\u001b[0mfloat32\u001b[0m\u001b[0;34m)\u001b[0m\u001b[0;34m,\u001b[0m \u001b[0mnp\u001b[0m\u001b[0;34m.\u001b[0m\u001b[0marray\u001b[0m\u001b[0;34m(\u001b[0m\u001b[0mnumerical_features\u001b[0m\u001b[0;34m)\u001b[0m\u001b[0;34m,\u001b[0m \u001b[0mtarget\u001b[0m\u001b[0;34m\u001b[0m\u001b[0;34m\u001b[0m\u001b[0m\n\u001b[0m\u001b[1;32m     19\u001b[0m \u001b[0;34m\u001b[0m\u001b[0m\n",
            "\u001b[0;32m/usr/local/lib/python3.10/dist-packages/pandas/core/series.py\u001b[0m in \u001b[0;36m__getitem__\u001b[0;34m(self, key)\u001b[0m\n\u001b[1;32m    979\u001b[0m \u001b[0;34m\u001b[0m\u001b[0m\n\u001b[1;32m    980\u001b[0m         \u001b[0;32melif\u001b[0m \u001b[0mkey_is_scalar\u001b[0m\u001b[0;34m:\u001b[0m\u001b[0;34m\u001b[0m\u001b[0;34m\u001b[0m\u001b[0m\n\u001b[0;32m--> 981\u001b[0;31m             \u001b[0;32mreturn\u001b[0m \u001b[0mself\u001b[0m\u001b[0;34m.\u001b[0m\u001b[0m_get_value\u001b[0m\u001b[0;34m(\u001b[0m\u001b[0mkey\u001b[0m\u001b[0;34m)\u001b[0m\u001b[0;34m\u001b[0m\u001b[0;34m\u001b[0m\u001b[0m\n\u001b[0m\u001b[1;32m    982\u001b[0m \u001b[0;34m\u001b[0m\u001b[0m\n\u001b[1;32m    983\u001b[0m         \u001b[0;32mif\u001b[0m \u001b[0mis_hashable\u001b[0m\u001b[0;34m(\u001b[0m\u001b[0mkey\u001b[0m\u001b[0;34m)\u001b[0m\u001b[0;34m:\u001b[0m\u001b[0;34m\u001b[0m\u001b[0;34m\u001b[0m\u001b[0m\n",
            "\u001b[0;32m/usr/local/lib/python3.10/dist-packages/pandas/core/series.py\u001b[0m in \u001b[0;36m_get_value\u001b[0;34m(self, label, takeable)\u001b[0m\n\u001b[1;32m   1088\u001b[0m         \u001b[0;31m# Similar to Index.get_value, but we do not fall back to positional\u001b[0m\u001b[0;34m\u001b[0m\u001b[0;34m\u001b[0m\u001b[0m\n\u001b[1;32m   1089\u001b[0m         \u001b[0mloc\u001b[0m \u001b[0;34m=\u001b[0m \u001b[0mself\u001b[0m\u001b[0;34m.\u001b[0m\u001b[0mindex\u001b[0m\u001b[0;34m.\u001b[0m\u001b[0mget_loc\u001b[0m\u001b[0;34m(\u001b[0m\u001b[0mlabel\u001b[0m\u001b[0;34m)\u001b[0m\u001b[0;34m\u001b[0m\u001b[0;34m\u001b[0m\u001b[0m\n\u001b[0;32m-> 1090\u001b[0;31m         \u001b[0;32mreturn\u001b[0m \u001b[0mself\u001b[0m\u001b[0;34m.\u001b[0m\u001b[0mindex\u001b[0m\u001b[0;34m.\u001b[0m\u001b[0m_get_values_for_loc\u001b[0m\u001b[0;34m(\u001b[0m\u001b[0mself\u001b[0m\u001b[0;34m,\u001b[0m \u001b[0mloc\u001b[0m\u001b[0;34m,\u001b[0m \u001b[0mlabel\u001b[0m\u001b[0;34m)\u001b[0m\u001b[0;34m\u001b[0m\u001b[0;34m\u001b[0m\u001b[0m\n\u001b[0m\u001b[1;32m   1091\u001b[0m \u001b[0;34m\u001b[0m\u001b[0m\n\u001b[1;32m   1092\u001b[0m     \u001b[0;32mdef\u001b[0m \u001b[0m__setitem__\u001b[0m\u001b[0;34m(\u001b[0m\u001b[0mself\u001b[0m\u001b[0;34m,\u001b[0m \u001b[0mkey\u001b[0m\u001b[0;34m,\u001b[0m \u001b[0mvalue\u001b[0m\u001b[0;34m)\u001b[0m \u001b[0;34m->\u001b[0m \u001b[0;32mNone\u001b[0m\u001b[0;34m:\u001b[0m\u001b[0;34m\u001b[0m\u001b[0;34m\u001b[0m\u001b[0m\n",
            "\u001b[0;32m/usr/local/lib/python3.10/dist-packages/pandas/core/indexes/base.py\u001b[0m in \u001b[0;36m_get_values_for_loc\u001b[0;34m(self, series, loc, key)\u001b[0m\n\u001b[1;32m   5932\u001b[0m         \u001b[0;32mreturn\u001b[0m \u001b[0;32mnot\u001b[0m \u001b[0mself\u001b[0m\u001b[0;34m.\u001b[0m\u001b[0mholds_integer\u001b[0m\u001b[0;34m(\u001b[0m\u001b[0;34m)\u001b[0m\u001b[0;34m\u001b[0m\u001b[0;34m\u001b[0m\u001b[0m\n\u001b[1;32m   5933\u001b[0m \u001b[0;34m\u001b[0m\u001b[0m\n\u001b[0;32m-> 5934\u001b[0;31m     \u001b[0;32mdef\u001b[0m \u001b[0m_get_values_for_loc\u001b[0m\u001b[0;34m(\u001b[0m\u001b[0mself\u001b[0m\u001b[0;34m,\u001b[0m \u001b[0mseries\u001b[0m\u001b[0;34m:\u001b[0m \u001b[0mSeries\u001b[0m\u001b[0;34m,\u001b[0m \u001b[0mloc\u001b[0m\u001b[0;34m,\u001b[0m \u001b[0mkey\u001b[0m\u001b[0;34m)\u001b[0m\u001b[0;34m:\u001b[0m\u001b[0;34m\u001b[0m\u001b[0;34m\u001b[0m\u001b[0m\n\u001b[0m\u001b[1;32m   5935\u001b[0m         \"\"\"\n\u001b[1;32m   5936\u001b[0m         \u001b[0mDo\u001b[0m \u001b[0ma\u001b[0m \u001b[0mpositional\u001b[0m \u001b[0mlookup\u001b[0m \u001b[0mon\u001b[0m \u001b[0mthe\u001b[0m \u001b[0mgiven\u001b[0m \u001b[0mSeries\u001b[0m\u001b[0;34m,\u001b[0m \u001b[0mreturning\u001b[0m \u001b[0meither\u001b[0m \u001b[0ma\u001b[0m \u001b[0mscalar\u001b[0m\u001b[0;34m\u001b[0m\u001b[0;34m\u001b[0m\u001b[0m\n",
            "\u001b[0;31mKeyboardInterrupt\u001b[0m: "
          ]
        }
      ]
    },
    {
      "cell_type": "code",
      "source": [
        "ps = []\n",
        "ls = []\n",
        " \n",
        "model.eval()\n",
        "with torch.no_grad():\n",
        "  for (country, post_hour, post_month, post_weekday, language, audio_embedding, visual_embedding, numerical_features, target) in test_data_loader:\n",
        "    country = country.to(device)\n",
        "    post_hour = post_hour.to(device)\n",
        "    post_month = post_month.to(device)\n",
        "    post_weekday = post_weekday.to(device)\n",
        "    language = language.to(device)\n",
        "    audio_embedding = audio_embedding.to(device).float()\n",
        "    visual_embedding = visual_embedding.to(device).float()\n",
        "    numerical_features = numerical_features.to(device).float()\n",
        "    \n",
        "\n",
        "    target = target.float().to(device)\n",
        "    y_pred = model(audio_embedding, visual_embedding, country, post_hour, post_month, post_weekday, language,   numerical_features).flatten()\n",
        "      \n",
        "    target = target.cpu().detach().numpy().tolist()\n",
        "    y_pred = y_pred.cpu().detach().numpy().tolist()\n",
        "\n",
        "    ps.extend(y_pred)\n",
        "    ls.extend(target)"
      ],
      "metadata": {
        "id": "NYcJ848SOg3U"
      },
      "execution_count": 68,
      "outputs": []
    },
    {
      "cell_type": "code",
      "source": [
        "train_preds_df = pd.DataFrame([(label, pred, 'test') for (label, pred) in zip(ls, ps)], columns = ['label', 'pred', 'source']) "
      ],
      "metadata": {
        "id": "Pwq5M9u_O5qE"
      },
      "execution_count": 69,
      "outputs": []
    },
    {
      "cell_type": "code",
      "source": [
        "import matplotlib.pyplot as plt\n",
        "\n",
        "fig, ax = plt.subplots()\n",
        "sns.scatterplot(data=train_preds_df, x=\"label\", y=\"pred\", ax= ax, hue = 'source')\n",
        "ax.set_ylim(0, 5)\n",
        "\n",
        "plt.show()"
      ],
      "metadata": {
        "colab": {
          "base_uri": "https://localhost:8080/",
          "height": 455
        },
        "id": "uizT52n1PDa1",
        "outputId": "cdb2b8c8-ea99-427e-c545-16048dcebf19"
      },
      "execution_count": 70,
      "outputs": [
        {
          "output_type": "display_data",
          "data": {
            "text/plain": [
              "<Figure size 640x480 with 1 Axes>"
            ],
            "image/png": "[encoded data removed]"
          },
          "metadata": {}
        }
      ]
    }
  ]
}
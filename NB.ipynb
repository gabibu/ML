{
 "cells": [
  {
   "cell_type": "markdown",
   "metadata": {
    "colab_type": "text",
    "id": "Uq_3t_tluNmU"
   },
   "source": [
    "# Naive Bayes"
   ]
  },
  {
   "cell_type": "markdown",
   "metadata": {
    "colab_type": "text",
    "id": "TQVMUZkQHlm2"
   },
   "source": [
    "## 1. Classifying Digits\n",
    "In this part we will test digits classification on the MNIST dataset, using Bernoulli Naive Bayes (a generative model), in contrast to the Multivariate Logistic Regression (a discriminative model) we used before.\n",
    "\n",
    "The MNIST dataset contains 28x28 grayscale images of handwritten digits between 0 and 9 (10 classes). For mathmatical analysis clarity, and for matching expected API, each image faltten to create a 1D array with 784 elements."
   ]
  },
  {
   "cell_type": "markdown",
   "metadata": {
    "colab_type": "text",
    "id": "Cjwjk6pzLE-y"
   },
   "source": [
    "### Loading the MNIST dataset\n",
    "Load the MNIST data set. The digits dataset is one of datasets scikit-learn comes with that do not require the downloading of any file from some external website. Use \n",
    ">```\n",
    "mnist = sklearn.datasets.fetch_mldata('MNIST original')\n",
    "```\n",
    "\n",
    "to fetch the original data. You may set the `data_home` to where you wish to download your data for caching. Each image is already transformed into a 1D integer array $x\\in [0,255]^{784}$, and the corresponding label is an integer $y\\in [0,9]$.\n",
    "\n",
    "Plot a single sample of each digit as the original image, so you get a feeling how the data looks like.\n",
    "\n",
    "Finally, divide your data into train and test sets, using 1/7 of the data for testing.\n",
    "\n",
    "---\n",
    "**Note 1:** Using `digits = sklearn.datasets.load_digits()` will only fetch a very small sample of the original set, with images resized to 8x8. This preprocessing of the data reduces dimensionality and gives invariance to small distortions - however, we will use the original data in this exercise. Feel free to test the proformance of the algorithms below on the preprocessed data as well.\n",
    "\n",
    "**Note 2:**\n",
    "Since ML-Data is deprecated, you may wish to use something like this:\n",
    ">```\n",
    "from keras.datasets import mnist\n",
    "(x_train, y_train), (x_test, y_test) = mnist.load_data()\n",
    "x_train = x_train.reshape(x_train.shape[0], 784)\n",
    "x_test = x_test.reshape(x_test.shape[0], 784)\n",
    "  ```\n",
    "\n"
   ]
  },
  {
   "cell_type": "code",
   "execution_count": 87,
   "metadata": {
    "colab": {},
    "colab_type": "code",
    "id": "05Om0QLxBvvT"
   },
   "outputs": [
    {
     "name": "stderr",
     "output_type": "stream",
     "text": [
      "Using TensorFlow backend.\n"
     ]
    }
   ],
   "source": [
    "from keras.datasets import mnist\n",
    "import numpy as np\n",
    "import matplotlib.pyplot as plt\n",
    "(x_train, y_train), (x_test, y_test) = mnist.load_data()\n",
    "\n"
   ]
  },
  {
   "cell_type": "code",
   "execution_count": 88,
   "metadata": {},
   "outputs": [
    {
     "data": {
      "image/png": "[encoded data removed]",
      "text/plain": [
       "<Figure size 720x72 with 10 Axes>"
      ]
     },
     "metadata": {},
     "output_type": "display_data"
    }
   ],
   "source": [
    "plt.figure(figsize=(10,1));\n",
    "\n",
    "for num in range(0,10):\n",
    "    index = np.random.choice(np.where(y_train == num)[0])\n",
    "    image = x_train[index]\n",
    "\n",
    "    plt.subplot(1, 10, num +1)\n",
    "    plt.imshow(image, shape=(12, 10))\n",
    "    plt.axis('off');\n",
    "    plt.title(num, fontsize=10)"
   ]
  },
  {
   "cell_type": "markdown",
   "metadata": {
    "colab_type": "text",
    "id": "WTGjjSKaFfE6"
   },
   "source": [
    "### Bernoulli Naive Bayes\n",
    "If we know how the digits are generated, then we know how to classify them (simply choose the digit class which will maximize the posterior probability) --- but which model should we use for describing the digits generation?\n",
    "\n",
    "In this part we will try a very simplified model of digits creation (which is obviously not the same as the \"real\" model), using a Naive Bayes over an underlying Bernoulli distribution --- that is, we will assume that given a digit class, the pixels of the images are the result of independent coin flips, each with its own \"head\" probability.\n",
    "\n",
    "Note that since we assume each pixl is either 0 (black) or 1 (white), we will need to adjust (preprocess) our data accrodingly (see below).\n",
    "\n",
    "So, the model is stated as follows:\n",
    "$$\n",
    "\\begin{align}\n",
    "\\text{Domain} && x \\in \\{0,1\\}^{784} \\\\\n",
    "\\text{Prior} && \\pi_j = \\Pr(y=j) \\\\\n",
    "\\text{Likelihood} && P_j(x) = \\Pr(x | y=j) \\\\\n",
    "\\end{align}\n",
    "$$\n",
    "\n",
    "Where for each $i\\in 0\\ldots 784$ it holds that\n",
    "$$\n",
    "P_{ji}(x_i) = \\Pr(x_i | y=j) =\n",
    "\\begin{cases}\n",
    "p_{ji} & \\text{if } x_i=1 \\\\\n",
    "1-p_{ji} & \\text{if } x_i=0 \\\\\n",
    "\\end{cases}\n",
    "$$\n"
   ]
  },
  {
   "cell_type": "markdown",
   "metadata": {
    "colab_type": "text",
    "id": "WNjhD3IpL5bC"
   },
   "source": [
    "#### Question 1\n",
    "Write the classification rule based on this Naive Bayes model. \n",
    "How would you esitmate each of the parameters of the model based on the trainning data? \n",
    "\n",
    "\n",
    "**Bonus:** Think of edge cases which may effect your estimator in an undesired way."
   ]
  },
  {
   "cell_type": "markdown",
   "metadata": {},
   "source": [
    "#### Answer 1\n",
    "y = argmax P(x/y)\n",
    "     y in Y\n",
    "\n",
    "Paramaters estimation:\n",
    "    calculate for each pixel its probability to be 1 or zero for each digit\n",
    "    if pixel never was 1 or zero for some digit it will get low probability(instead of zero)"
   ]
  },
  {
   "cell_type": "markdown",
   "metadata": {
    "colab_type": "text",
    "id": "0pN1prGcMqwZ"
   },
   "source": []
  },
  {
   "cell_type": "markdown",
   "metadata": {
    "colab_type": "text",
    "id": "nOnkgDIXTMCQ"
   },
   "source": [
    "#### Question 2\n",
    "Run a Naive Bayes classifier on the training data and apply predictions on the test data. Use the [sklearn.naive_bayes.BernoulliNB](http://scikit-learn.org/stable/modules/generated/sklearn.naive_bayes.BernoulliNB.html) implementation (see the [source code for sklearn.naive_bayes](https://github.com/scikit-learn/scikit-learn/blob/master/sklearn/naive_bayes.py) for details).\n",
    "\n",
    "Remember we need to preprocess the data in this case such that each pixel would become either black (0) or white (1). For this, use the `binarize` parameter of the implementation. Set this value to $0$ (this is the default), which in this case would mean every pixel with non-zero value will be set to 1.\n",
    "\n",
    "1. Plot the mean image of each class (estimated $\\hat{p}_{ji}$) and generate one sample of each class (remember, you can do this since this is a generative model). You will need to access the `feature_log_prob_` attribute of the trained model.\n",
    "\n",
    "2. Plot the confusion matrix of your classifier, as claculated on the test data (it is recommended to use [sklearn.metrics.confusion_matrix](http://scikit-learn.org/stable/modules/generated/sklearn.metrics.confusion_matrix.html)). Calculate the total accuracy (fraction of correctly classified images), and summarize the results in your own words.\n",
    "\n",
    "3. Think of a way you can find the optimal threshold of the binarization part. **There is no need to actually perform this task --- just describe what you would have done.**\n"
   ]
  },
  {
   "cell_type": "markdown",
   "metadata": {
    "colab_type": "text",
    "id": "ZKdsdegDWaO_"
   },
   "source": [
    "#### Answer 2\n",
    "Put you answer here..."
   ]
  },
  {
   "cell_type": "code",
   "execution_count": 89,
   "metadata": {},
   "outputs": [
    {
     "data": {
      "image/png": "[encoded data removed]",
      "text/plain": [
       "<Figure size 720x72 with 10 Axes>"
      ]
     },
     "metadata": {},
     "output_type": "display_data"
    }
   ],
   "source": [
    "#mean image \n",
    "plt.figure(figsize=(10,1))\n",
    "\n",
    "for num in range(0,10):\n",
    "    current_num_train_examples = x_train[np.where(y_train == num)]\n",
    "    avg_image = np.mean(current_num_train_examples, axis=0)\n",
    "    \n",
    "    plt.subplot(1, 10, num +1)\n",
    "    plt.imshow(avg_image, shape=(12, 10))\n",
    "    plt.axis('off');\n",
    "    plt.title(num, fontsize=10)\n",
    "    \n",
    "    "
   ]
  },
  {
   "cell_type": "code",
   "execution_count": 90,
   "metadata": {
    "colab": {},
    "colab_type": "code",
    "id": "XalqjRWXWS-Y"
   },
   "outputs": [
    {
     "data": {
      "text/plain": [
       "0.84130000000000005"
      ]
     },
     "execution_count": 90,
     "metadata": {},
     "output_type": "execute_result"
    }
   ],
   "source": [
    "x_train = x_train.reshape(x_train.shape[0], 784)\n",
    "x_test = x_test.reshape(x_test.shape[0], 784)\n",
    "\n",
    "from sklearn.naive_bayes import BernoulliNB\n",
    "clf = BernoulliNB(binarize=0)\n",
    "clf.fit(x_train, y_train)\n",
    "clf.score(x_test, y_test)"
   ]
  },
  {
   "cell_type": "code",
   "execution_count": 91,
   "metadata": {},
   "outputs": [
    {
     "data": {
      "image/png": "[encoded data removed]",
      "text/plain": [
       "<Figure size 720x72 with 10 Axes>"
      ]
     },
     "metadata": {},
     "output_type": "display_data"
    }
   ],
   "source": [
    "\n",
    "plt.figure(figsize=(10,1))\n",
    "\n",
    "for num in range(0,10):\n",
    "    generated_image = clf.feature_log_prob_[num].reshape(28,28)\n",
    "    \n",
    "    plt.subplot(1, 10, num +1)\n",
    "    plt.imshow(generated_image, shape=(12, 10))\n",
    "    plt.axis('off');\n",
    "    plt.title(num, fontsize=10)\n"
   ]
  },
  {
   "cell_type": "code",
   "execution_count": 92,
   "metadata": {},
   "outputs": [
    {
     "name": "stdout",
     "output_type": "stream",
     "text": [
      "Test Accuracy: 0.8413\n"
     ]
    },
    {
     "data": {
      "image/png": "[encoded data removed]",
      "text/plain": [
       "<Figure size 720x504 with 2 Axes>"
      ]
     },
     "metadata": {},
     "output_type": "display_data"
    }
   ],
   "source": [
    "import seaborn as sn\n",
    "import pandas as pd\n",
    "import matplotlib.pyplot as plt\n",
    "from sklearn.metrics import confusion_matrix\n",
    "test_predictions = clf.predict(x_test)\n",
    "cm = confusion_matrix(test_predictions, y_test)\n",
    "  \n",
    "df_cm = pd.DataFrame(cm, index = [i for i in range(0,10)],\n",
    "                    columns = range(0,10))\n",
    "\n",
    "plt.figure(figsize = (10,7))\n",
    "sn.heatmap(df_cm, annot=True)\n",
    "\n",
    "\n",
    "print('Test Accuracy: {0}'.format(np.sum(test_predictions == y_test)/(len(y_test) * 1.0)))\n"
   ]
  },
  {
   "cell_type": "markdown",
   "metadata": {
    "colab_type": "text",
    "id": "lKSgnectrTJ1"
   },
   "source": [
    "## 2. Classifing Text Documents using Multinomial Naive Bayes\n",
    "In this exercise you will classify the \"20 newsgroups\" data set using your own naive bayes classifier and compare to the scikit learn built in version.\n",
    "\n",
    "The 20 newsgroups dataset comprises around 18000 newsgroups posts on 20 topics split in two subsets: one for training (or development) and the other one for testing (or for performance evaluation). The split between the train and test set is based upon messages posted before and after a specific date.\n",
    "\n",
    "\n",
    "* Load the **train** data using `from sklearn.datasets import fetch_20newsgroups`. remove headers, footers and quotes (see documentation)\n",
    "* Use `sklearn.feature_extraction.text import CountVectorizer` to count words (stop_words='english')\n",
    "* Write a class `NaiveBayes(BaseEstimator, ClassifierMixin)` and implement its `fit`, `predict` and `predict_proba` methods.\n",
    "* use `sklearn.pipeline.make_pipeline` to chain the vectroizer and model.\n",
    "* note: limit the vocuabolary size if you suffer memory issues\n",
    "* compare the accuracy over the **test** data. You can use `accuracy_score, classification_report`\n",
    "* compare to the built in `sklearn.naive_bayes.MultinomialNB`\n",
    "* compare to `TfidfVectorizer` preprocessing (you can use the built in model for doing the analysis)\n",
    "* plot the learning curve - is the model in the bias or variance regime (you can use the built in model for doing the analysis)\n",
    "* optimize performance in respect to vectorizer hyper parameters (e.g. max_features, max_df etc.).\n",
    "\n",
    "### Optional: Model interpretability\n",
    "Find the most important features for a **specific** decision of a NB classifier.\n",
    "Because the model has learned the prior $p(x_i|c)$ during the training, the contribution of an individual feature value can be easily measured by the posterior, $p(c|x_i)=p(c)p(x_i|c)/p(x_i)$\n",
    "Implement a function which gets a scikit-learn NB model as input and returns $P(c|x_i)$:\n",
    "\n",
    "`def calc_p_c_given_xi(model)`\n",
    "\n",
    "Hint: Use the following model properties:\n",
    "\n",
    "* `model.class_log_prior_`\n",
    "* `model.feature_log_prob_`\n",
    "\n",
    "Note: remember these are logs and you need to use np.exp and normalize to get $P(c|x_i)$ \n",
    "Another hint: use numpy built-in broadcasting property.\n",
    "\n",
    "* Use the interpretation to examine errors of the classifier where $\\hat{c}\\ne c$. Which top words support the correct class and which support the wrong class? You can use the `print_txt` below to color words. \n",
    "\n",
    "Bonus: How can you correct the analyzed error? \n",
    "\n",
    "To read more about model interpretation, see the blogpost below and my tutorial:\n",
    "* https://lilianweng.github.io/lil-log/2017/08/01/how-to-explain-the-prediction-of-a-machine-learning-model.html\n",
    "* https://github.com/chanansh/right_but_why"
   ]
  },
  {
   "cell_type": "code",
   "execution_count": 93,
   "metadata": {},
   "outputs": [
    {
     "data": {
      "text/plain": [
       "(11314, 129796)"
      ]
     },
     "execution_count": 93,
     "metadata": {},
     "output_type": "execute_result"
    }
   ],
   "source": [
    "from sklearn.datasets import fetch_20newsgroups\n",
    "from sklearn.feature_extraction.text import CountVectorizer\n",
    "news_ds = fetch_20newsgroups(subset='train', shuffle=True, random_state=999)\n",
    "x_train = news_ds.data\n",
    "y_train = news_ds.target \n",
    "\n",
    "\n",
    "vectorizer = CountVectorizer(stop_words='english')\n",
    "X = vectorizer.fit_transform(x_train)\n",
    "X.shape"
   ]
  },
  {
   "cell_type": "code",
   "execution_count": 94,
   "metadata": {
    "colab": {},
    "colab_type": "code",
    "id": "FEbVc4Ixxe6L"
   },
   "outputs": [],
   "source": [
    "from sklearn.feature_extraction.text import CountVectorizer\n",
    "from sklearn.base import BaseEstimator, ClassifierMixin\n",
    "import numpy as np\n",
    "import math\n",
    "from scipy.sparse import coo_matrix\n",
    "\n",
    "class NaiveBayes(BaseEstimator, ClassifierMixin):\n",
    "\n",
    "  def __init__(self, alpha=1.0):\n",
    "    self.alpha = alpha if alpha is not  None else 0.0\n",
    "    self.prior = {}\n",
    "    self.cond_prob = None\n",
    "    self.vocabulary = None\n",
    "    self.categoty_total_words = None\n",
    "\n",
    "  def fit(self, x, y):\n",
    "    self.vocabulary = CountVectorizer(stop_words='english', lowercase=True)\n",
    "\n",
    "    X = self.vocabulary.fit_transform(x, y)\n",
    "\n",
    "    #prior\n",
    "    unique_labels, labels_counter = np.unique(y, return_counts=True)\n",
    "    self._total = np.sum(labels_counter, dtype=float)\n",
    "    for label, count in zip(unique_labels, labels_counter):\n",
    "        self.prior[label] = count/self._total\n",
    "\n",
    "\n",
    "    rows = X.toarray()\n",
    "\n",
    "    words_category_occurences = np.zeros(shape=(len(unique_labels), rows.shape[1]), dtype=float)\n",
    "\n",
    "    for row_index, row in enumerate(rows):\n",
    "        category_index = y[row_index]\n",
    "        words_category_occurences[category_index] += row\n",
    "\n",
    "    words_category_occurences = words_category_occurences+ self.alpha\n",
    "\n",
    "    self.categoty_total_words = words_category_occurences.sum(axis=1)\n",
    "\n",
    "    sum_word_occurrences_foreach_category = self.categoty_total_words.reshape(20, 1)\n",
    "\n",
    "    self.cond_prob = words_category_occurences / sum_word_occurrences_foreach_category\n",
    "\n",
    "\n",
    "\n",
    "  def predict_log_proba(self, x):\n",
    "      all_data = self.vocabulary.transform(x)\n",
    "      documentWords = {}\n",
    "\n",
    "      cx = coo_matrix(all_data)\n",
    "\n",
    "      for doc, word, word_count in zip(cx.row, cx.col, cx.data):\n",
    "          if doc not in documentWords:\n",
    "              documentWords[doc] = []\n",
    "          documentWords[doc].append((word, word_count))\n",
    "\n",
    "      log_probs = []\n",
    "      for doc_number in range(0, len(x)):\n",
    "\n",
    "          current_doc_log_probs = []\n",
    "          log_probs.append(current_doc_log_probs)\n",
    "          if doc_number not in documentWords:\n",
    "              current_doc_log_probs.extend([-1] * len(self.prior))\n",
    "              continue\n",
    "\n",
    "          words_and_counts = documentWords[doc_number]\n",
    "\n",
    "          for category, prior_prob in self.prior.items():\n",
    "              score = math.log(prior_prob)\n",
    "              word_prob_in_category = self.cond_prob[category]\n",
    "              for feature, count in words_and_counts:\n",
    "                  log_prob = math.log(word_prob_in_category[feature]) * count\n",
    "                  score += log_prob\n",
    "\n",
    "              current_doc_log_probs.append(score)\n",
    "\n",
    "            \n",
    "      return log_probs\n",
    "\n",
    "  def predict(self, x):\n",
    "      log_probs = self.predict_log_proba(x)\n",
    "\n",
    "      return np.argmax(log_probs, axis=1)\n",
    "    \n"
   ]
  },
  {
   "cell_type": "code",
   "execution_count": 95,
   "metadata": {},
   "outputs": [
    {
     "name": "stdout",
     "output_type": "stream",
     "text": [
      "accuracy_score = 0.659187466808\n",
      "                          precision    recall  f1-score   support\n",
      "\n",
      "             alt.atheism       0.31      0.56      0.40       319\n",
      "           comp.graphics       0.56      0.72      0.63       389\n",
      " comp.os.ms-windows.misc       0.50      0.01      0.01       394\n",
      "comp.sys.ibm.pc.hardware       0.52      0.72      0.60       392\n",
      "   comp.sys.mac.hardware       0.60      0.70      0.65       385\n",
      "          comp.windows.x       0.75      0.73      0.74       395\n",
      "            misc.forsale       0.82      0.71      0.76       390\n",
      "               rec.autos       0.72      0.74      0.73       396\n",
      "         rec.motorcycles       0.75      0.74      0.75       398\n",
      "      rec.sport.baseball       0.91      0.80      0.85       397\n",
      "        rec.sport.hockey       0.97      0.85      0.91       399\n",
      "               sci.crypt       0.75      0.74      0.75       396\n",
      "         sci.electronics       0.67      0.56      0.61       393\n",
      "                 sci.med       0.82      0.77      0.79       396\n",
      "               sci.space       0.76      0.74      0.75       394\n",
      "  soc.religion.christian       0.61      0.80      0.69       398\n",
      "      talk.politics.guns       0.59      0.65      0.62       364\n",
      "   talk.politics.mideast       0.80      0.73      0.77       376\n",
      "      talk.politics.misc       0.46      0.43      0.45       310\n",
      "      talk.religion.misc       0.35      0.25      0.29       251\n",
      "\n",
      "             avg / total       0.67      0.66      0.65      7532\n",
      "\n"
     ]
    }
   ],
   "source": [
    "from sklearn.datasets import fetch_20newsgroups\n",
    "from sklearn.metrics import accuracy_score\n",
    "from sklearn.metrics import classification_report\n",
    "\n",
    "news_ds = fetch_20newsgroups(subset='train', shuffle=True, random_state=999,\n",
    "                                 remove=('headers', 'footers', 'quotes'))\n",
    "x_train = news_ds.data\n",
    "y_train = news_ds.target\n",
    "\n",
    "nb = NaiveBayes(0.07)\n",
    "nb.fit(x_train, y_train)\n",
    "\n",
    "test_news_ds = fetch_20newsgroups(subset='test', shuffle=True, random_state=999,\n",
    "                                 remove=('headers', 'footers', 'quotes'))\n",
    "x_test = test_news_ds.data\n",
    "y_test = test_news_ds.target\n",
    "y_ = nb.predict(x_test)\n",
    "\n",
    "print('accuracy_score = {0}'.format(accuracy_score(y_test, y_, normalize=True, sample_weight=None)))\n",
    "\n",
    "print(classification_report(y_test, y_, target_names=news_ds.target_names))"
   ]
  },
  {
   "cell_type": "code",
   "execution_count": 96,
   "metadata": {},
   "outputs": [
    {
     "data": {
      "text/plain": [
       "0.65918746680828466"
      ]
     },
     "execution_count": 96,
     "metadata": {},
     "output_type": "execute_result"
    }
   ],
   "source": [
    "from sklearn.naive_bayes import MultinomialNB\n",
    "sk_clf = MultinomialNB(alpha = 0.07)\n",
    "\n",
    "nb.fit(x_train, y_train)\n",
    "\n",
    "y_ = nb.predict(x_test)\n",
    "\n",
    "accuracy_score(y_test, y_, normalize=True, sample_weight=None)"
   ]
  },
  {
   "cell_type": "code",
   "execution_count": 97,
   "metadata": {},
   "outputs": [
    {
     "data": {
      "text/plain": [
       "0.69662772172065857"
      ]
     },
     "execution_count": 97,
     "metadata": {},
     "output_type": "execute_result"
    }
   ],
   "source": [
    "from sklearn.pipeline import Pipeline\n",
    "from sklearn.feature_extraction.text import TfidfVectorizer\n",
    "from sklearn.naive_bayes import MultinomialNB\n",
    "\n",
    "pipe = Pipeline([\n",
    "    ('vect', TfidfVectorizer(stop_words='english', lowercase=True)),\n",
    "    ('clf', MultinomialNB(alpha=0.007))\n",
    "])\n",
    "\n",
    "pipe.fit(x_train, y_train)\n",
    "\n",
    "y_ = pipe.predict(x_test)\n",
    "\n",
    "accuracy_score(y_test, y_, normalize=True, sample_weight=None)\n",
    "\n"
   ]
  },
  {
   "cell_type": "code",
   "execution_count": 98,
   "metadata": {},
   "outputs": [
    {
     "data": {
      "text/plain": [
       "0.7023366967604886"
      ]
     },
     "execution_count": 98,
     "metadata": {},
     "output_type": "execute_result"
    }
   ],
   "source": [
    "from sklearn.pipeline import Pipeline\n",
    "from sklearn.feature_extraction.text import TfidfVectorizer\n",
    "from sklearn.naive_bayes import MultinomialNB\n",
    "\n",
    "pipe = Pipeline([\n",
    "    ('vect', TfidfVectorizer( min_df=2, \n",
    "                              max_df=0.96,\n",
    "                              use_idf = True,\n",
    "                             max_features=90000,\n",
    "                              stop_words='english')),\n",
    "    ('clf', MultinomialNB(alpha=0.09))\n",
    "])\n",
    "\n",
    "\n",
    "pipe.fit(x_train, y_train)\n",
    "\n",
    "y_ = pipe.predict(x_test)\n",
    "\n",
    "accuracy_score(y_test, y_, normalize=True, sample_weight=None)\n"
   ]
  }
 ],
 "metadata": {
  "colab": {
   "collapsed_sections": [],
   "name": "NB exercise.ipynb",
   "provenance": [],
   "version": "0.3.2"
  },
  "kernelspec": {
   "display_name": "Python 3",
   "language": "python",
   "name": "python3"
  },
  "language_info": {
   "codemirror_mode": {
    "name": "ipython",
    "version": 2
   },
   "file_extension": ".py",
   "mimetype": "text/x-python",
   "name": "python",
   "nbconvert_exporter": "python",
   "pygments_lexer": "ipython2",
   "version": "2.7.15"
  }
 },
 "nbformat": 4,
 "nbformat_minor": 1
}

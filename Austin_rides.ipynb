{
 "cells": [
  {
   "cell_type": "code",
   "execution_count": 1,
   "metadata": {},
   "outputs": [],
   "source": [
    "%matplotlib inline\n",
    "import pandas as pd"
   ]
  },
  {
   "cell_type": "code",
   "execution_count": 19,
   "metadata": {},
   "outputs": [],
   "source": [
    "import seaborn as sns\n",
    "from matplotlib import pyplot\n",
    "from scipy.stats import pearsonr\n",
    "from datetime import timedelta\n",
    "import numpy as np \n",
    "from sklearn.linear_model import LinearRegression\n",
    "import xgboost as xgb\n",
    "from sklearn import preprocessing"
   ]
  },
  {
   "cell_type": "markdown",
   "metadata": {
    "ExecuteTime": {
     "end_time": "2020-05-20T12:20:57.229145Z",
     "start_time": "2020-05-20T12:20:57.117310Z"
    }
   },
   "source": [
    "## Load Data"
   ]
  },
  {
   "cell_type": "code",
   "execution_count": 3,
   "metadata": {
    "ExecuteTime": {
     "end_time": "2020-06-02T09:31:45.752936Z",
     "start_time": "2020-06-02T09:31:39.779467Z"
    }
   },
   "outputs": [
    {
     "data": {
      "text/html": [
       "<div>\n",
       "<style scoped>\n",
       "    .dataframe tbody tr th:only-of-type {\n",
       "        vertical-align: middle;\n",
       "    }\n",
       "\n",
       "    .dataframe tbody tr th {\n",
       "        vertical-align: top;\n",
       "    }\n",
       "\n",
       "    .dataframe thead th {\n",
       "        text-align: right;\n",
       "    }\n",
       "</style>\n",
       "<table border=\"1\" class=\"dataframe\">\n",
       "  <thead>\n",
       "    <tr style=\"text-align: right;\">\n",
       "      <th></th>\n",
       "      <th>RIDE_ID</th>\n",
       "      <th>created_on</th>\n",
       "      <th>created_on_hour</th>\n",
       "      <th>started_on</th>\n",
       "      <th>completed_on</th>\n",
       "      <th>distance_travelled</th>\n",
       "    </tr>\n",
       "  </thead>\n",
       "  <tbody>\n",
       "    <tr>\n",
       "      <th>0</th>\n",
       "      <td>0</td>\n",
       "      <td>2016-06-04 00:10:19</td>\n",
       "      <td>2016-06-04 00:00:00</td>\n",
       "      <td>2016-06-04 00:18:49</td>\n",
       "      <td>2016-06-04 00:27:32</td>\n",
       "      <td>8459.0</td>\n",
       "    </tr>\n",
       "    <tr>\n",
       "      <th>1</th>\n",
       "      <td>1</td>\n",
       "      <td>2016-06-04 01:47:39</td>\n",
       "      <td>2016-06-04 01:00:00</td>\n",
       "      <td>2016-06-04 01:50:12</td>\n",
       "      <td>2016-06-04 01:51:49</td>\n",
       "      <td>443.0</td>\n",
       "    </tr>\n",
       "    <tr>\n",
       "      <th>2</th>\n",
       "      <td>2</td>\n",
       "      <td>2016-06-04 03:13:07</td>\n",
       "      <td>2016-06-04 03:00:00</td>\n",
       "      <td>2016-06-04 03:16:02</td>\n",
       "      <td>2016-06-04 03:17:57</td>\n",
       "      <td>568.0</td>\n",
       "    </tr>\n",
       "    <tr>\n",
       "      <th>3</th>\n",
       "      <td>3</td>\n",
       "      <td>2016-06-04 09:52:35</td>\n",
       "      <td>2016-06-04 09:00:00</td>\n",
       "      <td>2016-06-04 10:05:13</td>\n",
       "      <td>2016-06-04 10:13:38</td>\n",
       "      <td>4051.0</td>\n",
       "    </tr>\n",
       "    <tr>\n",
       "      <th>4</th>\n",
       "      <td>4</td>\n",
       "      <td>2016-06-04 10:23:25</td>\n",
       "      <td>2016-06-04 10:00:00</td>\n",
       "      <td>2016-06-04 10:24:25</td>\n",
       "      <td>2016-06-04 10:26:07</td>\n",
       "      <td>790.0</td>\n",
       "    </tr>\n",
       "  </tbody>\n",
       "</table>\n",
       "</div>"
      ],
      "text/plain": [
       "   RIDE_ID           created_on     created_on_hour           started_on  \\\n",
       "0        0  2016-06-04 00:10:19 2016-06-04 00:00:00  2016-06-04 00:18:49   \n",
       "1        1  2016-06-04 01:47:39 2016-06-04 01:00:00  2016-06-04 01:50:12   \n",
       "2        2  2016-06-04 03:13:07 2016-06-04 03:00:00  2016-06-04 03:16:02   \n",
       "3        3  2016-06-04 09:52:35 2016-06-04 09:00:00  2016-06-04 10:05:13   \n",
       "4        4  2016-06-04 10:23:25 2016-06-04 10:00:00  2016-06-04 10:24:25   \n",
       "\n",
       "          completed_on  distance_travelled  \n",
       "0  2016-06-04 00:27:32              8459.0  \n",
       "1  2016-06-04 01:51:49               443.0  \n",
       "2  2016-06-04 03:17:57               568.0  \n",
       "3  2016-06-04 10:13:38              4051.0  \n",
       "4  2016-06-04 10:26:07               790.0  "
      ]
     },
     "execution_count": 3,
     "metadata": {},
     "output_type": "execute_result"
    }
   ],
   "source": [
    "df_rides = pd.read_csv('rides.csv')\n",
    "df_rides['created_on_hour'] = pd.to_datetime(df_rides['created_on_hour'])\n",
    "df_rides.head()"
   ]
  },
  {
   "cell_type": "markdown",
   "metadata": {
    "ExecuteTime": {
     "end_time": "2020-05-20T12:20:57.229145Z",
     "start_time": "2020-05-20T12:20:57.117310Z"
    }
   },
   "source": [
    "## Data Exploration"
   ]
  },
  {
   "cell_type": "code",
   "execution_count": 4,
   "metadata": {
    "ExecuteTime": {
     "end_time": "2020-06-02T09:35:02.863275Z",
     "start_time": "2020-06-02T09:35:02.721642Z"
    }
   },
   "outputs": [
    {
     "data": {
      "text/html": [
       "<div>\n",
       "<style scoped>\n",
       "    .dataframe tbody tr th:only-of-type {\n",
       "        vertical-align: middle;\n",
       "    }\n",
       "\n",
       "    .dataframe tbody tr th {\n",
       "        vertical-align: top;\n",
       "    }\n",
       "\n",
       "    .dataframe thead th {\n",
       "        text-align: right;\n",
       "    }\n",
       "</style>\n",
       "<table border=\"1\" class=\"dataframe\">\n",
       "  <thead>\n",
       "    <tr style=\"text-align: right;\">\n",
       "      <th></th>\n",
       "      <th>created_on_hour</th>\n",
       "      <th>rides</th>\n",
       "    </tr>\n",
       "  </thead>\n",
       "  <tbody>\n",
       "    <tr>\n",
       "      <th>0</th>\n",
       "      <td>2016-06-04 00:00:00</td>\n",
       "      <td>1</td>\n",
       "    </tr>\n",
       "    <tr>\n",
       "      <th>1</th>\n",
       "      <td>2016-06-04 01:00:00</td>\n",
       "      <td>1</td>\n",
       "    </tr>\n",
       "    <tr>\n",
       "      <th>2</th>\n",
       "      <td>2016-06-04 03:00:00</td>\n",
       "      <td>1</td>\n",
       "    </tr>\n",
       "    <tr>\n",
       "      <th>3</th>\n",
       "      <td>2016-06-04 09:00:00</td>\n",
       "      <td>1</td>\n",
       "    </tr>\n",
       "    <tr>\n",
       "      <th>4</th>\n",
       "      <td>2016-06-04 10:00:00</td>\n",
       "      <td>1</td>\n",
       "    </tr>\n",
       "  </tbody>\n",
       "</table>\n",
       "</div>"
      ],
      "text/plain": [
       "      created_on_hour  rides\n",
       "0 2016-06-04 00:00:00      1\n",
       "1 2016-06-04 01:00:00      1\n",
       "2 2016-06-04 03:00:00      1\n",
       "3 2016-06-04 09:00:00      1\n",
       "4 2016-06-04 10:00:00      1"
      ]
     },
     "execution_count": 4,
     "metadata": {},
     "output_type": "execute_result"
    }
   ],
   "source": [
    "df_hourly_rides = df_rides.groupby('created_on_hour')['RIDE_ID'].count().reset_index().rename(columns={'RIDE_ID': 'rides'})\n",
    "df_hourly_rides['created_on_hour'] = pd.to_datetime(df_hourly_rides['created_on_hour'])\n",
    "df_hourly_rides.head()"
   ]
  },
  {
   "cell_type": "markdown",
   "metadata": {
    "ExecuteTime": {
     "end_time": "2020-06-02T09:37:58.144780Z",
     "start_time": "2020-06-02T09:37:57.712022Z"
    }
   },
   "source": [
    "### Task #1"
   ]
  },
  {
   "cell_type": "markdown",
   "metadata": {},
   "source": [
    "Plot the rides overtime on a daily level. \n",
    "Is there any trend?"
   ]
  },
  {
   "cell_type": "markdown",
   "metadata": {},
   "source": [
    "#### We can see that the number of rides increase over time."
   ]
  },
  {
   "cell_type": "code",
   "execution_count": 5,
   "metadata": {},
   "outputs": [
    {
     "data": {
      "text/plain": [
       "<matplotlib.axes._subplots.AxesSubplot at 0x1210d4ed0>"
      ]
     },
     "execution_count": 5,
     "metadata": {},
     "output_type": "execute_result"
    },
    {
     "data": {
      "image/png": "[encoded data removed]",
      "text/plain": [
       "<Figure size 576x576 with 1 Axes>"
      ]
     },
     "metadata": {
      "needs_background": "light"
     },
     "output_type": "display_data"
    }
   ],
   "source": [
    "df_rides['ride_date'] = df_rides['created_on_hour'].dt.date\n",
    "\n",
    "df_daily_rides = df_rides.groupby('ride_date')['RIDE_ID'].count().reset_index().rename(columns={'RIDE_ID': 'number_of_rides'})\n",
    "\n",
    "_, ax = pyplot.subplots(figsize=(8, 8))\n",
    "\n",
    "sns.scatterplot(ax=ax, data=df_daily_rides, x=\"ride_date\", y=\"number_of_rides\")"
   ]
  },
  {
   "cell_type": "markdown",
   "metadata": {},
   "source": [
    "### Task #2"
   ]
  },
  {
   "cell_type": "markdown",
   "metadata": {},
   "source": [
    "Plot a ride distance histogram.\n",
    "What is the distribution? is it normal?"
   ]
  },
  {
   "cell_type": "markdown",
   "metadata": {},
   "source": [
    "#### the distribution does not look normal, I think its closer to log normal."
   ]
  },
  {
   "cell_type": "code",
   "execution_count": 6,
   "metadata": {},
   "outputs": [
    {
     "data": {
      "image/png": "[encoded data removed]",
      "text/plain": [
       "<Figure size 432x288 with 1 Axes>"
      ]
     },
     "metadata": {
      "needs_background": "light"
     },
     "output_type": "display_data"
    }
   ],
   "source": [
    "ax = sns.histplot(x=\"distance_travelled\", data=df_rides.sample(1000))"
   ]
  },
  {
   "cell_type": "markdown",
   "metadata": {},
   "source": [
    "## Preprocessing"
   ]
  },
  {
   "cell_type": "code",
   "execution_count": 7,
   "metadata": {
    "ExecuteTime": {
     "end_time": "2020-06-02T12:04:04.353096Z",
     "start_time": "2020-06-02T12:04:04.285427Z"
    }
   },
   "outputs": [
    {
     "data": {
      "text/html": [
       "<div>\n",
       "<style scoped>\n",
       "    .dataframe tbody tr th:only-of-type {\n",
       "        vertical-align: middle;\n",
       "    }\n",
       "\n",
       "    .dataframe tbody tr th {\n",
       "        vertical-align: top;\n",
       "    }\n",
       "\n",
       "    .dataframe thead th {\n",
       "        text-align: right;\n",
       "    }\n",
       "</style>\n",
       "<table border=\"1\" class=\"dataframe\">\n",
       "  <thead>\n",
       "    <tr style=\"text-align: right;\">\n",
       "      <th></th>\n",
       "      <th>datetime</th>\n",
       "      <th>weekday</th>\n",
       "      <th>month</th>\n",
       "      <th>day</th>\n",
       "      <th>year</th>\n",
       "      <th>weekofyear</th>\n",
       "      <th>dayofyear</th>\n",
       "      <th>us_holiday</th>\n",
       "      <th>us_holiday_type</th>\n",
       "      <th>hour</th>\n",
       "    </tr>\n",
       "  </thead>\n",
       "  <tbody>\n",
       "    <tr>\n",
       "      <th>0</th>\n",
       "      <td>2016-06-04 00:00:00</td>\n",
       "      <td>5</td>\n",
       "      <td>6</td>\n",
       "      <td>4</td>\n",
       "      <td>2016</td>\n",
       "      <td>22</td>\n",
       "      <td>156</td>\n",
       "      <td>False</td>\n",
       "      <td>None</td>\n",
       "      <td>0</td>\n",
       "    </tr>\n",
       "    <tr>\n",
       "      <th>1</th>\n",
       "      <td>2016-06-04 01:00:00</td>\n",
       "      <td>5</td>\n",
       "      <td>6</td>\n",
       "      <td>4</td>\n",
       "      <td>2016</td>\n",
       "      <td>22</td>\n",
       "      <td>156</td>\n",
       "      <td>False</td>\n",
       "      <td>None</td>\n",
       "      <td>1</td>\n",
       "    </tr>\n",
       "    <tr>\n",
       "      <th>2</th>\n",
       "      <td>2016-06-04 02:00:00</td>\n",
       "      <td>5</td>\n",
       "      <td>6</td>\n",
       "      <td>4</td>\n",
       "      <td>2016</td>\n",
       "      <td>22</td>\n",
       "      <td>156</td>\n",
       "      <td>False</td>\n",
       "      <td>None</td>\n",
       "      <td>2</td>\n",
       "    </tr>\n",
       "    <tr>\n",
       "      <th>3</th>\n",
       "      <td>2016-06-04 03:00:00</td>\n",
       "      <td>5</td>\n",
       "      <td>6</td>\n",
       "      <td>4</td>\n",
       "      <td>2016</td>\n",
       "      <td>22</td>\n",
       "      <td>156</td>\n",
       "      <td>False</td>\n",
       "      <td>None</td>\n",
       "      <td>3</td>\n",
       "    </tr>\n",
       "    <tr>\n",
       "      <th>4</th>\n",
       "      <td>2016-06-04 04:00:00</td>\n",
       "      <td>5</td>\n",
       "      <td>6</td>\n",
       "      <td>4</td>\n",
       "      <td>2016</td>\n",
       "      <td>22</td>\n",
       "      <td>156</td>\n",
       "      <td>False</td>\n",
       "      <td>None</td>\n",
       "      <td>4</td>\n",
       "    </tr>\n",
       "  </tbody>\n",
       "</table>\n",
       "</div>"
      ],
      "text/plain": [
       "             datetime  weekday  month  day  year  weekofyear  dayofyear  \\\n",
       "0 2016-06-04 00:00:00        5      6    4  2016          22        156   \n",
       "1 2016-06-04 01:00:00        5      6    4  2016          22        156   \n",
       "2 2016-06-04 02:00:00        5      6    4  2016          22        156   \n",
       "3 2016-06-04 03:00:00        5      6    4  2016          22        156   \n",
       "4 2016-06-04 04:00:00        5      6    4  2016          22        156   \n",
       "\n",
       "   us_holiday us_holiday_type  hour  \n",
       "0       False            None     0  \n",
       "1       False            None     1  \n",
       "2       False            None     2  \n",
       "3       False            None     3  \n",
       "4       False            None     4  "
      ]
     },
     "execution_count": 7,
     "metadata": {},
     "output_type": "execute_result"
    }
   ],
   "source": [
    "df_times = pd.read_csv('times.csv')\n",
    "df_times['datetime'] = pd.to_datetime(df_times['datetime'])\n",
    "df_times.head()"
   ]
  },
  {
   "cell_type": "markdown",
   "metadata": {},
   "source": [
    "### Task #3"
   ]
  },
  {
   "cell_type": "markdown",
   "metadata": {},
   "source": [
    "You have time features in the df_times dataframe. \n",
    "Merge this dataframe with the hourly rides dataframe, so you can use those features later."
   ]
  },
  {
   "cell_type": "code",
   "execution_count": 8,
   "metadata": {},
   "outputs": [],
   "source": [
    "df_hourly_rides = pd.merge(df_times, df_hourly_rides, left_on='datetime', right_on='created_on_hour')"
   ]
  },
  {
   "cell_type": "markdown",
   "metadata": {},
   "source": [
    "### Task #4"
   ]
  },
  {
   "cell_type": "markdown",
   "metadata": {},
   "source": [
    "We would like to add a lag feature, which retrieves the amount of rides taken at the same exact hour last week. \n",
    "Please implement this feature.\n",
    "What is the correlation between current and last week's rides?"
   ]
  },
  {
   "cell_type": "code",
   "execution_count": 9,
   "metadata": {},
   "outputs": [],
   "source": [
    "\n",
    "df_last_week_hourly_rides = df_hourly_rides[['rides', 'created_on_hour']].rename(columns = \n",
    "                                                   {'rides': 'number_of_rides_on_same_hour_last_week' })\n",
    "\n",
    "df_last_week_hourly_rides['last_week_of_created_on_hour'] = df_last_week_hourly_rides['created_on_hour'] - timedelta(days = 7)\n",
    "\n",
    "df_last_week_hourly_rides.drop(\"created_on_hour\", axis=1, inplace = True)\n",
    "\n",
    "\n",
    "df_hourly_rides = pd.merge(df_hourly_rides, \n",
    "              df_last_week_hourly_rides, left_on='created_on_hour', \n",
    "                                     right_on = 'last_week_of_created_on_hour',\n",
    "                          how = 'left')\n",
    "\n",
    "df_hourly_rides.drop(\"last_week_of_created_on_hour\", axis=1, inplace = True)\n",
    "\n",
    "\n"
   ]
  },
  {
   "cell_type": "code",
   "execution_count": 10,
   "metadata": {},
   "outputs": [
    {
     "data": {
      "text/plain": [
       "0.8326306550260205"
      ]
     },
     "execution_count": 10,
     "metadata": {},
     "output_type": "execute_result"
    }
   ],
   "source": [
    "#the first week will not have the number of rides from last week so I am filtering those rows.\n",
    "\n",
    "df_hourly_rides_with_valid_last_week = df_hourly_rides[df_hourly_rides['number_of_rides_on_same_hour_last_week'].notnull()]\n",
    "\n",
    "pearsonr(df_hourly_rides_with_valid_last_week['rides'], df_hourly_rides_with_valid_last_week['number_of_rides_on_same_hour_last_week'])[0]"
   ]
  },
  {
   "cell_type": "code",
   "execution_count": 251,
   "metadata": {},
   "outputs": [
    {
     "data": {
      "text/html": [
       "<div>\n",
       "<style scoped>\n",
       "    .dataframe tbody tr th:only-of-type {\n",
       "        vertical-align: middle;\n",
       "    }\n",
       "\n",
       "    .dataframe tbody tr th {\n",
       "        vertical-align: top;\n",
       "    }\n",
       "\n",
       "    .dataframe thead th {\n",
       "        text-align: right;\n",
       "    }\n",
       "</style>\n",
       "<table border=\"1\" class=\"dataframe\">\n",
       "  <thead>\n",
       "    <tr style=\"text-align: right;\">\n",
       "      <th></th>\n",
       "      <th>datetime</th>\n",
       "      <th>weekday</th>\n",
       "      <th>month</th>\n",
       "      <th>day</th>\n",
       "      <th>year</th>\n",
       "      <th>weekofyear</th>\n",
       "      <th>dayofyear</th>\n",
       "      <th>us_holiday</th>\n",
       "      <th>us_holiday_type</th>\n",
       "      <th>hour</th>\n",
       "      <th>created_on_hour</th>\n",
       "      <th>rides</th>\n",
       "      <th>number_of_rides_on_same_hour_last_week</th>\n",
       "    </tr>\n",
       "  </thead>\n",
       "  <tbody>\n",
       "    <tr>\n",
       "      <th>477</th>\n",
       "      <td>2016-07-02 12:00:00</td>\n",
       "      <td>5</td>\n",
       "      <td>7</td>\n",
       "      <td>2</td>\n",
       "      <td>2016</td>\n",
       "      <td>26</td>\n",
       "      <td>184</td>\n",
       "      <td>False</td>\n",
       "      <td>None</td>\n",
       "      <td>12</td>\n",
       "      <td>2016-07-02 12:00:00</td>\n",
       "      <td>21</td>\n",
       "      <td>17.0</td>\n",
       "    </tr>\n",
       "  </tbody>\n",
       "</table>\n",
       "</div>"
      ],
      "text/plain": [
       "               datetime  weekday  month  day  year  weekofyear  dayofyear  \\\n",
       "477 2016-07-02 12:00:00        5      7    2  2016          26        184   \n",
       "\n",
       "     us_holiday us_holiday_type  hour     created_on_hour  rides  \\\n",
       "477       False            None    12 2016-07-02 12:00:00     21   \n",
       "\n",
       "     number_of_rides_on_same_hour_last_week  \n",
       "477                                    17.0  "
      ]
     },
     "execution_count": 251,
     "metadata": {},
     "output_type": "execute_result"
    }
   ],
   "source": [
    "df_hourly_rides.sample(1)"
   ]
  },
  {
   "cell_type": "markdown",
   "metadata": {},
   "source": [
    "## Model"
   ]
  },
  {
   "cell_type": "code",
   "execution_count": 11,
   "metadata": {
    "ExecuteTime": {
     "end_time": "2020-06-02T14:39:24.508284Z",
     "start_time": "2020-06-02T14:39:24.499026Z"
    }
   },
   "outputs": [],
   "source": [
    "from sklearn.metrics import mean_absolute_error"
   ]
  },
  {
   "cell_type": "markdown",
   "metadata": {},
   "source": [
    "### Task #5"
   ]
  },
  {
   "cell_type": "markdown",
   "metadata": {},
   "source": [
    "We would like to predict how many rides will occur every hour.\n",
    "\n",
    "As a first step, propose a simple baseline and measure its MAE (mean absolute error)"
   ]
  },
  {
   "cell_type": "markdown",
   "metadata": {},
   "source": [
    "### Baseline - LinearRegression model "
   ]
  },
  {
   "cell_type": "code",
   "execution_count": 12,
   "metadata": {
    "ExecuteTime": {
     "end_time": "2020-06-02T13:14:39.037326Z",
     "start_time": "2020-06-02T13:14:39.004775Z"
    }
   },
   "outputs": [],
   "source": [
    "df_hourly_rides = df_hourly_rides.where(pd.notnull(df_hourly_rides), None)\n",
    "\n",
    "\n",
    "train = df_hourly_rides[df_hourly_rides.datetime < '2017-03-30 00:00:00']\n",
    "test = df_hourly_rides[(df_hourly_rides.datetime >= '2017-03-30 00:00:00') & (df_hourly_rides.datetime < '2017-04-13 00:00:00')]"
   ]
  },
  {
   "cell_type": "code",
   "execution_count": 13,
   "metadata": {},
   "outputs": [
    {
     "data": {
      "text/plain": [
       "(Timestamp('2017-03-29 23:00:00'), Timestamp('2017-03-30 00:00:00'))"
      ]
     },
     "execution_count": 13,
     "metadata": {},
     "output_type": "execute_result"
    }
   ],
   "source": [
    "np.max(train['datetime']), np.min(test['datetime'])"
   ]
  },
  {
   "cell_type": "code",
   "execution_count": 15,
   "metadata": {},
   "outputs": [],
   "source": [
    "def preprocessing_df(df: pd.DataFrame):\n",
    "    df['us_holiday_type'] = df['us_holiday_type'].apply(lambda x: 'NA' if x is None else x)\n",
    "    df['number_of_rides_on_same_hour_last_week'] = df['number_of_rides_on_same_hour_last_week'].apply(lambda x: -1 if x is None else x)\n",
    "\n",
    "    "
   ]
  },
  {
   "cell_type": "code",
   "execution_count": 16,
   "metadata": {},
   "outputs": [
    {
     "name": "stderr",
     "output_type": "stream",
     "text": [
      "/usr/local/lib/python3.7/site-packages/ipykernel_launcher.py:2: SettingWithCopyWarning: \n",
      "A value is trying to be set on a copy of a slice from a DataFrame.\n",
      "Try using .loc[row_indexer,col_indexer] = value instead\n",
      "\n",
      "See the caveats in the documentation: https://pandas.pydata.org/pandas-docs/stable/user_guide/indexing.html#returning-a-view-versus-a-copy\n",
      "  \n",
      "/usr/local/lib/python3.7/site-packages/ipykernel_launcher.py:3: SettingWithCopyWarning: \n",
      "A value is trying to be set on a copy of a slice from a DataFrame.\n",
      "Try using .loc[row_indexer,col_indexer] = value instead\n",
      "\n",
      "See the caveats in the documentation: https://pandas.pydata.org/pandas-docs/stable/user_guide/indexing.html#returning-a-view-versus-a-copy\n",
      "  This is separate from the ipykernel package so we can avoid doing imports until\n"
     ]
    }
   ],
   "source": [
    "preprocessing_df(train)\n",
    "preprocessing_df(test)"
   ]
  },
  {
   "cell_type": "code",
   "execution_count": 20,
   "metadata": {},
   "outputs": [
    {
     "data": {
      "text/plain": [
       "LabelEncoder()"
      ]
     },
     "execution_count": 20,
     "metadata": {},
     "output_type": "execute_result"
    }
   ],
   "source": [
    "us_holiday_type_encoder = preprocessing.LabelEncoder()\n",
    "us_holiday_types =  pd.unique(train['us_holiday_type']).tolist()\n",
    "us_holiday_type_encoder.fit(us_holiday_types)"
   ]
  },
  {
   "cell_type": "code",
   "execution_count": 21,
   "metadata": {},
   "outputs": [
    {
     "name": "stderr",
     "output_type": "stream",
     "text": [
      "/usr/local/lib/python3.7/site-packages/ipykernel_launcher.py:1: SettingWithCopyWarning: \n",
      "A value is trying to be set on a copy of a slice from a DataFrame.\n",
      "Try using .loc[row_indexer,col_indexer] = value instead\n",
      "\n",
      "See the caveats in the documentation: https://pandas.pydata.org/pandas-docs/stable/user_guide/indexing.html#returning-a-view-versus-a-copy\n",
      "  \"\"\"Entry point for launching an IPython kernel.\n",
      "/usr/local/lib/python3.7/site-packages/ipykernel_launcher.py:3: SettingWithCopyWarning: \n",
      "A value is trying to be set on a copy of a slice from a DataFrame.\n",
      "Try using .loc[row_indexer,col_indexer] = value instead\n",
      "\n",
      "See the caveats in the documentation: https://pandas.pydata.org/pandas-docs/stable/user_guide/indexing.html#returning-a-view-versus-a-copy\n",
      "  This is separate from the ipykernel package so we can avoid doing imports until\n"
     ]
    }
   ],
   "source": [
    "train['us_holiday_type_id'] = train['us_holiday_type'].apply(lambda holiday_type: us_holiday_type_encoder.transform([holiday_type])[0])\n",
    "\n",
    "test['us_holiday_type_id'] = test['us_holiday_type'].apply(lambda holiday_type: us_holiday_type_encoder.transform([holiday_type])[0])\n"
   ]
  },
  {
   "cell_type": "code",
   "execution_count": 22,
   "metadata": {},
   "outputs": [
    {
     "data": {
      "text/plain": [
       "LinearRegression(copy_X=True, fit_intercept=True, n_jobs=None, normalize=False)"
      ]
     },
     "execution_count": 22,
     "metadata": {},
     "output_type": "execute_result"
    }
   ],
   "source": [
    "FEATURES_COLUMNS = ['weekday', 'month', 'day', 'year', 'weekofyear',\n",
    "                    'dayofyear', 'us_holiday', 'us_holiday_type_id',  \n",
    "                    'hour', 'number_of_rides_on_same_hour_last_week']\n",
    "\n",
    "df_train_features = train[FEATURES_COLUMNS]\n",
    "\n",
    "features_scaler = preprocessing.MinMaxScaler()\n",
    "X = features_scaler.fit_transform(df_train_features)\n",
    "\n",
    "y = train['rides'].tolist()\n",
    "\n",
    "lr = LinearRegression()\n",
    "lr.fit(X, y)"
   ]
  },
  {
   "cell_type": "code",
   "execution_count": 23,
   "metadata": {},
   "outputs": [
    {
     "data": {
      "text/plain": [
       "149.95649858866614"
      ]
     },
     "execution_count": 23,
     "metadata": {},
     "output_type": "execute_result"
    }
   ],
   "source": [
    "df_test_features = test[FEATURES_COLUMNS]\n",
    "X = features_scaler.transform(df_test_features)\n",
    "y = test['rides'].tolist()\n",
    "y_hat = lr.predict(X)\n",
    "mean_absolute_error(y, y_hat)"
   ]
  },
  {
   "cell_type": "markdown",
   "metadata": {},
   "source": [
    "### Task #6"
   ]
  },
  {
   "cell_type": "markdown",
   "metadata": {},
   "source": [
    "Now let's create a model and calculate its performance.\n",
    "\n",
    "Is it better than the baseline?"
   ]
  },
  {
   "cell_type": "code",
   "execution_count": 24,
   "metadata": {
    "ExecuteTime": {
     "end_time": "2020-06-02T14:41:21.767379Z",
     "start_time": "2020-06-02T14:41:21.714528Z"
    }
   },
   "outputs": [
    {
     "name": "stdout",
     "output_type": "stream",
     "text": [
      "[22:55:33] WARNING: src/objective/regression_obj.cu:152: reg:linear is now deprecated in favor of reg:squarederror.\n"
     ]
    },
    {
     "data": {
      "text/plain": [
       "XGBRegressor(base_score=0.5, booster='gbtree', colsample_bylevel=1,\n",
       "             colsample_bynode=1, colsample_bytree=1, gamma=0,\n",
       "             importance_type='gain', learning_rate=0.1, max_delta_step=0,\n",
       "             max_depth=5, min_child_weight=1, missing=None, n_estimators=100,\n",
       "             n_jobs=1, nthread=None, objective='reg:linear', random_state=0,\n",
       "             reg_alpha=0, reg_lambda=1, scale_pos_weight=1, seed=None,\n",
       "             silent=None, subsample=1, verbosity=1)"
      ]
     },
     "execution_count": 24,
     "metadata": {},
     "output_type": "execute_result"
    }
   ],
   "source": [
    "\n",
    "df_train_features = train[FEATURES_COLUMNS]\n",
    "train_y = train['rides'].tolist()\n",
    "\n",
    "\n",
    "df_test_features = test[FEATURES_COLUMNS]\n",
    "test_y = test['rides'].tolist()\n",
    "\n",
    "model = xgb.XGBRegressor(max_depth = 5)\n",
    "model.fit(df_train_features, train_y)\n",
    "\n"
   ]
  },
  {
   "cell_type": "code",
   "execution_count": 25,
   "metadata": {},
   "outputs": [
    {
     "data": {
      "text/plain": [
       "114.1716548374721"
      ]
     },
     "execution_count": 25,
     "metadata": {},
     "output_type": "execute_result"
    }
   ],
   "source": [
    "test_y_hat = model.predict(df_test_features)\n",
    "mean_absolute_error(test_y, test_y_hat)"
   ]
  },
  {
   "cell_type": "markdown",
   "metadata": {},
   "source": [
    "### Task #7"
   ]
  },
  {
   "cell_type": "markdown",
   "metadata": {},
   "source": [
    "You've been offered to purchase an extension of this historical dataset going further into the past. In order to decide whether it is worthwhile, you need to estimate if there's a potential to improve the model given this data.\n",
    "\n",
    "What is your estimation and why?"
   ]
  },
  {
   "cell_type": "markdown",
   "metadata": {},
   "source": [
    "#### My estimation is that purchasing more data has potential to improve the model since\n",
    "#### rides have seasonality behavior that the model can learn with more trainning data."
   ]
  }
 ],
 "metadata": {
  "kernelspec": {
   "display_name": "Python 3",
   "language": "python",
   "name": "python3"
  },
  "language_info": {
   "codemirror_mode": {
    "name": "ipython",
    "version": 3
   },
   "file_extension": ".py",
   "mimetype": "text/x-python",
   "name": "python",
   "nbconvert_exporter": "python",
   "pygments_lexer": "ipython3",
   "version": "3.7.4"
  },
  "toc": {
   "base_numbering": 1,
   "nav_menu": {},
   "number_sections": true,
   "sideBar": true,
   "skip_h1_title": false,
   "title_cell": "Table of Contents",
   "title_sidebar": "Contents",
   "toc_cell": false,
   "toc_position": {},
   "toc_section_display": true,
   "toc_window_display": false
  }
 },
 "nbformat": 4,
 "nbformat_minor": 2
}
